{
 "cells": [
  {
   "cell_type": "code",
   "execution_count": 1,
   "metadata": {},
   "outputs": [],
   "source": [
    "import warnings\n",
    "warnings.filterwarnings('ignore')"
   ]
  },
  {
   "cell_type": "code",
   "execution_count": 2,
   "metadata": {},
   "outputs": [],
   "source": [
    "import os\n",
    "import numpy as np\n",
    "import pandas as pd\n",
    "\n",
    "from sklearn import preprocessing\n",
    "from sklearn.impute import SimpleImputer\n",
    "\n",
    "from sklearn.compose import ColumnTransformer\n",
    "\n",
    "from sklearn.preprocessing import StandardScaler\n",
    "from sklearn.preprocessing import OneHotEncoder\n",
    "from sklearn.model_selection import train_test_split\n",
    "from sklearn.pipeline import Pipeline\n",
    "from sklearn.model_selection import GridSearchCV, cross_val_score, StratifiedKFold\n",
    "\n",
    "from sklearn.tree import DecisionTreeClassifier\n",
    "from sklearn.ensemble import RandomForestClassifier\n",
    "from sklearn.svm import SVC\n",
    "from sklearn.linear_model import LogisticRegression\n",
    "\n",
    "from sklearn.ensemble import GradientBoostingClassifier\n",
    "from sklearn.ensemble import AdaBoostClassifier\n",
    "from sklearn.metrics import confusion_matrix\n",
    "\n",
    "import matplotlib.pyplot as plt\n",
    "import seaborn as sns\n",
    "\n",
    "# from imblearn.over_sampling import SMOTE\n",
    "from sklearn.metrics import accuracy_score, recall_score, precision_score\n"
   ]
  },
  {
   "cell_type": "code",
   "execution_count": 3,
   "metadata": {},
   "outputs": [],
   "source": [
    "# Define custom function to print accuracy, precision and recall\n",
    "\n",
    "def convert_for_sklearn(label_list):\n",
    "    return [1 if i == 'yes' else 0 for i in label_list]\n",
    "\n",
    "\n",
    "def accuracy_precision_recall_metrics(y_true, y_pred):\n",
    "    \n",
    "    y_test_scoring = convert_for_sklearn(y_true)\n",
    "    test_pred_scoring = convert_for_sklearn(y_pred)\n",
    "\n",
    "    acc = accuracy_score(y_true= y_test_scoring, y_pred = test_pred_scoring)\n",
    "    prec = precision_score(y_true= y_test_scoring, y_pred = test_pred_scoring)\n",
    "    rec = recall_score(y_true= y_test_scoring, y_pred = test_pred_scoring)\n",
    "    \n",
    "    print(\"Test Precision: \",prec)\n",
    "    print(\"Test Recall: \",rec)\n",
    "    print(\"Test Accuracy: \",acc)"
   ]
  },
  {
   "cell_type": "markdown",
   "metadata": {},
   "source": [
    "### Read in the data"
   ]
  },
  {
   "cell_type": "code",
   "execution_count": 4,
   "metadata": {},
   "outputs": [],
   "source": [
    "dataset_merchant = pd.read_csv(\"train_merchant_data.csv\", na_values='', parse_dates=['Merchant_Registration_Date'])\n",
    "dataset_order = pd.read_csv(\"train_order_data.csv\", na_values='',  parse_dates=['Date_of_Order'])\n",
    "dataset_ip = pd.read_csv(\"train.csv\", na_values='')\n",
    "dataset_ip_boundary = pd.read_csv(\"ip_boundaries_countries.csv\", na_values='')"
   ]
  },
  {
   "cell_type": "code",
   "execution_count": 5,
   "metadata": {},
   "outputs": [
    {
     "data": {
      "text/html": [
       "<div>\n",
       "<style scoped>\n",
       "    .dataframe tbody tr th:only-of-type {\n",
       "        vertical-align: middle;\n",
       "    }\n",
       "\n",
       "    .dataframe tbody tr th {\n",
       "        vertical-align: top;\n",
       "    }\n",
       "\n",
       "    .dataframe thead th {\n",
       "        text-align: right;\n",
       "    }\n",
       "</style>\n",
       "<table border=\"1\" class=\"dataframe\">\n",
       "  <thead>\n",
       "    <tr style=\"text-align: right;\">\n",
       "      <th></th>\n",
       "      <th>Ecommerce_Provider_ID</th>\n",
       "      <th>Merchant_ID</th>\n",
       "      <th>Merchant_Registration_Date</th>\n",
       "      <th>Registered_Device_ID</th>\n",
       "      <th>Gender</th>\n",
       "      <th>Age</th>\n",
       "      <th>IP_Address</th>\n",
       "    </tr>\n",
       "  </thead>\n",
       "  <tbody>\n",
       "    <tr>\n",
       "      <td>0</td>\n",
       "      <td>1746213</td>\n",
       "      <td>50448</td>\n",
       "      <td>2018-05-01 21:15:11</td>\n",
       "      <td>VATQMMZTVOZUT</td>\n",
       "      <td>F</td>\n",
       "      <td>39</td>\n",
       "      <td>48.151.136.76</td>\n",
       "    </tr>\n",
       "    <tr>\n",
       "      <td>1</td>\n",
       "      <td>1746213</td>\n",
       "      <td>338754</td>\n",
       "      <td>2018-04-14 10:13:00</td>\n",
       "      <td>LJCILLBRQZNKS</td>\n",
       "      <td>M</td>\n",
       "      <td>35</td>\n",
       "      <td>94.9.145.169</td>\n",
       "    </tr>\n",
       "    <tr>\n",
       "      <td>2</td>\n",
       "      <td>1746213</td>\n",
       "      <td>291127</td>\n",
       "      <td>2018-06-20 07:44:22</td>\n",
       "      <td>JFVHSUGKDAYZV</td>\n",
       "      <td>F</td>\n",
       "      <td>40</td>\n",
       "      <td>58.94.157.121</td>\n",
       "    </tr>\n",
       "    <tr>\n",
       "      <td>3</td>\n",
       "      <td>1746213</td>\n",
       "      <td>319919</td>\n",
       "      <td>2018-06-27 01:41:39</td>\n",
       "      <td>WFRXMPLQYXRMY</td>\n",
       "      <td>M</td>\n",
       "      <td>37</td>\n",
       "      <td>193.187.41.186</td>\n",
       "    </tr>\n",
       "    <tr>\n",
       "      <td>4</td>\n",
       "      <td>1746213</td>\n",
       "      <td>195911</td>\n",
       "      <td>2018-01-05 00:55:41</td>\n",
       "      <td>GGHKWMSWHCMID</td>\n",
       "      <td>F</td>\n",
       "      <td>27</td>\n",
       "      <td>125.96.20.172</td>\n",
       "    </tr>\n",
       "  </tbody>\n",
       "</table>\n",
       "</div>"
      ],
      "text/plain": [
       "   Ecommerce_Provider_ID  Merchant_ID Merchant_Registration_Date  \\\n",
       "0                1746213        50448        2018-05-01 21:15:11   \n",
       "1                1746213       338754        2018-04-14 10:13:00   \n",
       "2                1746213       291127        2018-06-20 07:44:22   \n",
       "3                1746213       319919        2018-06-27 01:41:39   \n",
       "4                1746213       195911        2018-01-05 00:55:41   \n",
       "\n",
       "  Registered_Device_ID Gender  Age      IP_Address  \n",
       "0        VATQMMZTVOZUT      F   39   48.151.136.76  \n",
       "1        LJCILLBRQZNKS      M   35    94.9.145.169  \n",
       "2        JFVHSUGKDAYZV      F   40   58.94.157.121  \n",
       "3        WFRXMPLQYXRMY      M   37  193.187.41.186  \n",
       "4        GGHKWMSWHCMID      F   27   125.96.20.172  "
      ]
     },
     "execution_count": 5,
     "metadata": {},
     "output_type": "execute_result"
    }
   ],
   "source": [
    "dataset_merchant.head()"
   ]
  },
  {
   "cell_type": "code",
   "execution_count": 6,
   "metadata": {},
   "outputs": [
    {
     "data": {
      "text/html": [
       "<div>\n",
       "<style scoped>\n",
       "    .dataframe tbody tr th:only-of-type {\n",
       "        vertical-align: middle;\n",
       "    }\n",
       "\n",
       "    .dataframe tbody tr th {\n",
       "        vertical-align: top;\n",
       "    }\n",
       "\n",
       "    .dataframe thead th {\n",
       "        text-align: right;\n",
       "    }\n",
       "</style>\n",
       "<table border=\"1\" class=\"dataframe\">\n",
       "  <thead>\n",
       "    <tr style=\"text-align: right;\">\n",
       "      <th></th>\n",
       "      <th>Customer_ID</th>\n",
       "      <th>Order_ID</th>\n",
       "      <th>Date_of_Order</th>\n",
       "      <th>Order_Value_USD</th>\n",
       "      <th>Order_Source</th>\n",
       "      <th>Order_Payment_Method</th>\n",
       "      <th>Merchant_ID</th>\n",
       "    </tr>\n",
       "  </thead>\n",
       "  <tbody>\n",
       "    <tr>\n",
       "      <td>0</td>\n",
       "      <td>126221</td>\n",
       "      <td>37cea9512f8d</td>\n",
       "      <td>2018-04-29 16:39:26</td>\n",
       "      <td>148</td>\n",
       "      <td>Direct</td>\n",
       "      <td>Credit Card</td>\n",
       "      <td>124231</td>\n",
       "    </tr>\n",
       "    <tr>\n",
       "      <td>1</td>\n",
       "      <td>115471</td>\n",
       "      <td>09f12e6efde2</td>\n",
       "      <td>2018-06-16 17:05:40</td>\n",
       "      <td>145</td>\n",
       "      <td>SEO</td>\n",
       "      <td>Credit Card</td>\n",
       "      <td>136178</td>\n",
       "    </tr>\n",
       "    <tr>\n",
       "      <td>2</td>\n",
       "      <td>151786</td>\n",
       "      <td>4e69e956e159</td>\n",
       "      <td>2018-10-26 18:00:46</td>\n",
       "      <td>62</td>\n",
       "      <td>Ads</td>\n",
       "      <td>Internet Banking</td>\n",
       "      <td>198611</td>\n",
       "    </tr>\n",
       "    <tr>\n",
       "      <td>3</td>\n",
       "      <td>140456</td>\n",
       "      <td>663443aaeb82</td>\n",
       "      <td>2018-12-12 05:41:52</td>\n",
       "      <td>28</td>\n",
       "      <td>SEO</td>\n",
       "      <td>Debit Card</td>\n",
       "      <td>127993</td>\n",
       "    </tr>\n",
       "    <tr>\n",
       "      <td>4</td>\n",
       "      <td>114721</td>\n",
       "      <td>99258810c121</td>\n",
       "      <td>2018-09-20 11:06:10</td>\n",
       "      <td>70</td>\n",
       "      <td>Ads</td>\n",
       "      <td>Credit Card</td>\n",
       "      <td>250146</td>\n",
       "    </tr>\n",
       "  </tbody>\n",
       "</table>\n",
       "</div>"
      ],
      "text/plain": [
       "   Customer_ID      Order_ID       Date_of_Order  Order_Value_USD  \\\n",
       "0       126221  37cea9512f8d 2018-04-29 16:39:26              148   \n",
       "1       115471  09f12e6efde2 2018-06-16 17:05:40              145   \n",
       "2       151786  4e69e956e159 2018-10-26 18:00:46               62   \n",
       "3       140456  663443aaeb82 2018-12-12 05:41:52               28   \n",
       "4       114721  99258810c121 2018-09-20 11:06:10               70   \n",
       "\n",
       "  Order_Source Order_Payment_Method  Merchant_ID  \n",
       "0       Direct          Credit Card       124231  \n",
       "1          SEO          Credit Card       136178  \n",
       "2          Ads     Internet Banking       198611  \n",
       "3          SEO           Debit Card       127993  \n",
       "4          Ads          Credit Card       250146  "
      ]
     },
     "execution_count": 6,
     "metadata": {},
     "output_type": "execute_result"
    }
   ],
   "source": [
    "dataset_order.head()"
   ]
  },
  {
   "cell_type": "code",
   "execution_count": 7,
   "metadata": {},
   "outputs": [],
   "source": [
    "dataset_merchant_order =  pd.merge(left= dataset_merchant,right =  dataset_order, how = 'inner', on='Merchant_ID')"
   ]
  },
  {
   "cell_type": "code",
   "execution_count": 8,
   "metadata": {},
   "outputs": [
    {
     "data": {
      "text/html": [
       "<div>\n",
       "<style scoped>\n",
       "    .dataframe tbody tr th:only-of-type {\n",
       "        vertical-align: middle;\n",
       "    }\n",
       "\n",
       "    .dataframe tbody tr th {\n",
       "        vertical-align: top;\n",
       "    }\n",
       "\n",
       "    .dataframe thead th {\n",
       "        text-align: right;\n",
       "    }\n",
       "</style>\n",
       "<table border=\"1\" class=\"dataframe\">\n",
       "  <thead>\n",
       "    <tr style=\"text-align: right;\">\n",
       "      <th></th>\n",
       "      <th>Ecommerce_Provider_ID</th>\n",
       "      <th>Merchant_ID</th>\n",
       "      <th>Merchant_Registration_Date</th>\n",
       "      <th>Registered_Device_ID</th>\n",
       "      <th>Gender</th>\n",
       "      <th>Age</th>\n",
       "      <th>IP_Address</th>\n",
       "      <th>Customer_ID</th>\n",
       "      <th>Order_ID</th>\n",
       "      <th>Date_of_Order</th>\n",
       "      <th>Order_Value_USD</th>\n",
       "      <th>Order_Source</th>\n",
       "      <th>Order_Payment_Method</th>\n",
       "    </tr>\n",
       "  </thead>\n",
       "  <tbody>\n",
       "    <tr>\n",
       "      <td>0</td>\n",
       "      <td>1746213</td>\n",
       "      <td>50448</td>\n",
       "      <td>2018-05-01 21:15:11</td>\n",
       "      <td>VATQMMZTVOZUT</td>\n",
       "      <td>F</td>\n",
       "      <td>39</td>\n",
       "      <td>48.151.136.76</td>\n",
       "      <td>129697</td>\n",
       "      <td>3b8983a83c7b</td>\n",
       "      <td>2018-07-30 10:59:13</td>\n",
       "      <td>90</td>\n",
       "      <td>SEO</td>\n",
       "      <td>Debit Card</td>\n",
       "    </tr>\n",
       "    <tr>\n",
       "      <td>1</td>\n",
       "      <td>1746213</td>\n",
       "      <td>338754</td>\n",
       "      <td>2018-04-14 10:13:00</td>\n",
       "      <td>LJCILLBRQZNKS</td>\n",
       "      <td>M</td>\n",
       "      <td>35</td>\n",
       "      <td>94.9.145.169</td>\n",
       "      <td>117390</td>\n",
       "      <td>34b5eb921228</td>\n",
       "      <td>2018-06-15 11:19:47</td>\n",
       "      <td>98</td>\n",
       "      <td>SEO</td>\n",
       "      <td>Internet Banking</td>\n",
       "    </tr>\n",
       "    <tr>\n",
       "      <td>2</td>\n",
       "      <td>1746213</td>\n",
       "      <td>291127</td>\n",
       "      <td>2018-06-20 07:44:22</td>\n",
       "      <td>JFVHSUGKDAYZV</td>\n",
       "      <td>F</td>\n",
       "      <td>40</td>\n",
       "      <td>58.94.157.121</td>\n",
       "      <td>120162</td>\n",
       "      <td>41a1c86ff08b</td>\n",
       "      <td>2018-08-13 10:06:26</td>\n",
       "      <td>95</td>\n",
       "      <td>SEO</td>\n",
       "      <td>Credit Card</td>\n",
       "    </tr>\n",
       "    <tr>\n",
       "      <td>3</td>\n",
       "      <td>1746213</td>\n",
       "      <td>319919</td>\n",
       "      <td>2018-06-27 01:41:39</td>\n",
       "      <td>WFRXMPLQYXRMY</td>\n",
       "      <td>M</td>\n",
       "      <td>37</td>\n",
       "      <td>193.187.41.186</td>\n",
       "      <td>128228</td>\n",
       "      <td>e8c3ad80d916</td>\n",
       "      <td>2018-07-22 15:46:51</td>\n",
       "      <td>100</td>\n",
       "      <td>Direct</td>\n",
       "      <td>E-wallet</td>\n",
       "    </tr>\n",
       "    <tr>\n",
       "      <td>4</td>\n",
       "      <td>1746213</td>\n",
       "      <td>195911</td>\n",
       "      <td>2018-01-05 00:55:41</td>\n",
       "      <td>GGHKWMSWHCMID</td>\n",
       "      <td>F</td>\n",
       "      <td>27</td>\n",
       "      <td>125.96.20.172</td>\n",
       "      <td>136029</td>\n",
       "      <td>e71ab1f26785</td>\n",
       "      <td>2018-04-16 08:02:44</td>\n",
       "      <td>78</td>\n",
       "      <td>SEO</td>\n",
       "      <td>E-wallet</td>\n",
       "    </tr>\n",
       "  </tbody>\n",
       "</table>\n",
       "</div>"
      ],
      "text/plain": [
       "   Ecommerce_Provider_ID  Merchant_ID Merchant_Registration_Date  \\\n",
       "0                1746213        50448        2018-05-01 21:15:11   \n",
       "1                1746213       338754        2018-04-14 10:13:00   \n",
       "2                1746213       291127        2018-06-20 07:44:22   \n",
       "3                1746213       319919        2018-06-27 01:41:39   \n",
       "4                1746213       195911        2018-01-05 00:55:41   \n",
       "\n",
       "  Registered_Device_ID Gender  Age      IP_Address  Customer_ID      Order_ID  \\\n",
       "0        VATQMMZTVOZUT      F   39   48.151.136.76       129697  3b8983a83c7b   \n",
       "1        LJCILLBRQZNKS      M   35    94.9.145.169       117390  34b5eb921228   \n",
       "2        JFVHSUGKDAYZV      F   40   58.94.157.121       120162  41a1c86ff08b   \n",
       "3        WFRXMPLQYXRMY      M   37  193.187.41.186       128228  e8c3ad80d916   \n",
       "4        GGHKWMSWHCMID      F   27   125.96.20.172       136029  e71ab1f26785   \n",
       "\n",
       "        Date_of_Order  Order_Value_USD Order_Source Order_Payment_Method  \n",
       "0 2018-07-30 10:59:13               90          SEO           Debit Card  \n",
       "1 2018-06-15 11:19:47               98          SEO     Internet Banking  \n",
       "2 2018-08-13 10:06:26               95          SEO          Credit Card  \n",
       "3 2018-07-22 15:46:51              100       Direct             E-wallet  \n",
       "4 2018-04-16 08:02:44               78          SEO             E-wallet  "
      ]
     },
     "execution_count": 8,
     "metadata": {},
     "output_type": "execute_result"
    }
   ],
   "source": [
    "dataset_merchant_order.head()"
   ]
  },
  {
   "cell_type": "code",
   "execution_count": 9,
   "metadata": {},
   "outputs": [
    {
     "data": {
      "text/plain": [
       "M    31761\n",
       "F    22452\n",
       "Name: Gender, dtype: int64"
      ]
     },
     "execution_count": 9,
     "metadata": {},
     "output_type": "execute_result"
    }
   ],
   "source": [
    "dataset_merchant_order.Gender.value_counts()\n",
    "# dataset_merchant_order.Age_x.value_counts()"
   ]
  },
  {
   "cell_type": "code",
   "execution_count": 10,
   "metadata": {},
   "outputs": [
    {
     "data": {
      "text/html": [
       "<div>\n",
       "<style scoped>\n",
       "    .dataframe tbody tr th:only-of-type {\n",
       "        vertical-align: middle;\n",
       "    }\n",
       "\n",
       "    .dataframe tbody tr th {\n",
       "        vertical-align: top;\n",
       "    }\n",
       "\n",
       "    .dataframe thead th {\n",
       "        text-align: right;\n",
       "    }\n",
       "</style>\n",
       "<table border=\"1\" class=\"dataframe\">\n",
       "  <thead>\n",
       "    <tr style=\"text-align: right;\">\n",
       "      <th></th>\n",
       "      <th>Merchant_ID</th>\n",
       "      <th>Fraudster</th>\n",
       "    </tr>\n",
       "  </thead>\n",
       "  <tbody>\n",
       "    <tr>\n",
       "      <td>0</td>\n",
       "      <td>221592</td>\n",
       "      <td>0</td>\n",
       "    </tr>\n",
       "    <tr>\n",
       "      <td>1</td>\n",
       "      <td>316935</td>\n",
       "      <td>1</td>\n",
       "    </tr>\n",
       "    <tr>\n",
       "      <td>2</td>\n",
       "      <td>38454</td>\n",
       "      <td>1</td>\n",
       "    </tr>\n",
       "    <tr>\n",
       "      <td>3</td>\n",
       "      <td>214437</td>\n",
       "      <td>1</td>\n",
       "    </tr>\n",
       "    <tr>\n",
       "      <td>4</td>\n",
       "      <td>296240</td>\n",
       "      <td>1</td>\n",
       "    </tr>\n",
       "    <tr>\n",
       "      <td>...</td>\n",
       "      <td>...</td>\n",
       "      <td>...</td>\n",
       "    </tr>\n",
       "    <tr>\n",
       "      <td>54208</td>\n",
       "      <td>243300</td>\n",
       "      <td>0</td>\n",
       "    </tr>\n",
       "    <tr>\n",
       "      <td>54209</td>\n",
       "      <td>219957</td>\n",
       "      <td>0</td>\n",
       "    </tr>\n",
       "    <tr>\n",
       "      <td>54210</td>\n",
       "      <td>101017</td>\n",
       "      <td>0</td>\n",
       "    </tr>\n",
       "    <tr>\n",
       "      <td>54211</td>\n",
       "      <td>50557</td>\n",
       "      <td>0</td>\n",
       "    </tr>\n",
       "    <tr>\n",
       "      <td>54212</td>\n",
       "      <td>39134</td>\n",
       "      <td>0</td>\n",
       "    </tr>\n",
       "  </tbody>\n",
       "</table>\n",
       "<p>54213 rows × 2 columns</p>\n",
       "</div>"
      ],
      "text/plain": [
       "       Merchant_ID  Fraudster\n",
       "0           221592          0\n",
       "1           316935          1\n",
       "2            38454          1\n",
       "3           214437          1\n",
       "4           296240          1\n",
       "...            ...        ...\n",
       "54208       243300          0\n",
       "54209       219957          0\n",
       "54210       101017          0\n",
       "54211        50557          0\n",
       "54212        39134          0\n",
       "\n",
       "[54213 rows x 2 columns]"
      ]
     },
     "execution_count": 10,
     "metadata": {},
     "output_type": "execute_result"
    }
   ],
   "source": [
    "dataset_ip"
   ]
  },
  {
   "cell_type": "code",
   "execution_count": 11,
   "metadata": {},
   "outputs": [],
   "source": [
    "dataset_merchant_order_fraud = pd.merge(dataset_merchant_order, dataset_ip, on=['Merchant_ID'] )"
   ]
  },
  {
   "cell_type": "code",
   "execution_count": 12,
   "metadata": {},
   "outputs": [
    {
     "data": {
      "text/html": [
       "<div>\n",
       "<style scoped>\n",
       "    .dataframe tbody tr th:only-of-type {\n",
       "        vertical-align: middle;\n",
       "    }\n",
       "\n",
       "    .dataframe tbody tr th {\n",
       "        vertical-align: top;\n",
       "    }\n",
       "\n",
       "    .dataframe thead th {\n",
       "        text-align: right;\n",
       "    }\n",
       "</style>\n",
       "<table border=\"1\" class=\"dataframe\">\n",
       "  <thead>\n",
       "    <tr style=\"text-align: right;\">\n",
       "      <th></th>\n",
       "      <th>Ecommerce_Provider_ID</th>\n",
       "      <th>Merchant_ID</th>\n",
       "      <th>Merchant_Registration_Date</th>\n",
       "      <th>Registered_Device_ID</th>\n",
       "      <th>Gender</th>\n",
       "      <th>Age</th>\n",
       "      <th>IP_Address</th>\n",
       "      <th>Customer_ID</th>\n",
       "      <th>Order_ID</th>\n",
       "      <th>Date_of_Order</th>\n",
       "      <th>Order_Value_USD</th>\n",
       "      <th>Order_Source</th>\n",
       "      <th>Order_Payment_Method</th>\n",
       "      <th>Fraudster</th>\n",
       "    </tr>\n",
       "  </thead>\n",
       "  <tbody>\n",
       "    <tr>\n",
       "      <td>0</td>\n",
       "      <td>1746213</td>\n",
       "      <td>50448</td>\n",
       "      <td>2018-05-01 21:15:11</td>\n",
       "      <td>VATQMMZTVOZUT</td>\n",
       "      <td>F</td>\n",
       "      <td>39</td>\n",
       "      <td>48.151.136.76</td>\n",
       "      <td>129697</td>\n",
       "      <td>3b8983a83c7b</td>\n",
       "      <td>2018-07-30 10:59:13</td>\n",
       "      <td>90</td>\n",
       "      <td>SEO</td>\n",
       "      <td>Debit Card</td>\n",
       "      <td>0</td>\n",
       "    </tr>\n",
       "    <tr>\n",
       "      <td>1</td>\n",
       "      <td>1746213</td>\n",
       "      <td>338754</td>\n",
       "      <td>2018-04-14 10:13:00</td>\n",
       "      <td>LJCILLBRQZNKS</td>\n",
       "      <td>M</td>\n",
       "      <td>35</td>\n",
       "      <td>94.9.145.169</td>\n",
       "      <td>117390</td>\n",
       "      <td>34b5eb921228</td>\n",
       "      <td>2018-06-15 11:19:47</td>\n",
       "      <td>98</td>\n",
       "      <td>SEO</td>\n",
       "      <td>Internet Banking</td>\n",
       "      <td>0</td>\n",
       "    </tr>\n",
       "    <tr>\n",
       "      <td>2</td>\n",
       "      <td>1746213</td>\n",
       "      <td>291127</td>\n",
       "      <td>2018-06-20 07:44:22</td>\n",
       "      <td>JFVHSUGKDAYZV</td>\n",
       "      <td>F</td>\n",
       "      <td>40</td>\n",
       "      <td>58.94.157.121</td>\n",
       "      <td>120162</td>\n",
       "      <td>41a1c86ff08b</td>\n",
       "      <td>2018-08-13 10:06:26</td>\n",
       "      <td>95</td>\n",
       "      <td>SEO</td>\n",
       "      <td>Credit Card</td>\n",
       "      <td>0</td>\n",
       "    </tr>\n",
       "    <tr>\n",
       "      <td>3</td>\n",
       "      <td>1746213</td>\n",
       "      <td>319919</td>\n",
       "      <td>2018-06-27 01:41:39</td>\n",
       "      <td>WFRXMPLQYXRMY</td>\n",
       "      <td>M</td>\n",
       "      <td>37</td>\n",
       "      <td>193.187.41.186</td>\n",
       "      <td>128228</td>\n",
       "      <td>e8c3ad80d916</td>\n",
       "      <td>2018-07-22 15:46:51</td>\n",
       "      <td>100</td>\n",
       "      <td>Direct</td>\n",
       "      <td>E-wallet</td>\n",
       "      <td>0</td>\n",
       "    </tr>\n",
       "    <tr>\n",
       "      <td>4</td>\n",
       "      <td>1746213</td>\n",
       "      <td>195911</td>\n",
       "      <td>2018-01-05 00:55:41</td>\n",
       "      <td>GGHKWMSWHCMID</td>\n",
       "      <td>F</td>\n",
       "      <td>27</td>\n",
       "      <td>125.96.20.172</td>\n",
       "      <td>136029</td>\n",
       "      <td>e71ab1f26785</td>\n",
       "      <td>2018-04-16 08:02:44</td>\n",
       "      <td>78</td>\n",
       "      <td>SEO</td>\n",
       "      <td>E-wallet</td>\n",
       "      <td>0</td>\n",
       "    </tr>\n",
       "    <tr>\n",
       "      <td>...</td>\n",
       "      <td>...</td>\n",
       "      <td>...</td>\n",
       "      <td>...</td>\n",
       "      <td>...</td>\n",
       "      <td>...</td>\n",
       "      <td>...</td>\n",
       "      <td>...</td>\n",
       "      <td>...</td>\n",
       "      <td>...</td>\n",
       "      <td>...</td>\n",
       "      <td>...</td>\n",
       "      <td>...</td>\n",
       "      <td>...</td>\n",
       "      <td>...</td>\n",
       "    </tr>\n",
       "    <tr>\n",
       "      <td>54208</td>\n",
       "      <td>1746213</td>\n",
       "      <td>222372</td>\n",
       "      <td>2018-05-01 21:58:19</td>\n",
       "      <td>KGVMENGCIAVOK</td>\n",
       "      <td>M</td>\n",
       "      <td>43</td>\n",
       "      <td>247.25.244.31</td>\n",
       "      <td>111700</td>\n",
       "      <td>58d25819870c</td>\n",
       "      <td>2018-06-12 17:18:37</td>\n",
       "      <td>108</td>\n",
       "      <td>Ads</td>\n",
       "      <td>E-wallet</td>\n",
       "      <td>0</td>\n",
       "    </tr>\n",
       "    <tr>\n",
       "      <td>54209</td>\n",
       "      <td>1746213</td>\n",
       "      <td>73491</td>\n",
       "      <td>2018-06-11 19:54:13</td>\n",
       "      <td>QJGPOYDONTYCN</td>\n",
       "      <td>M</td>\n",
       "      <td>41</td>\n",
       "      <td>80.30.170.122</td>\n",
       "      <td>122148</td>\n",
       "      <td>569444812870</td>\n",
       "      <td>2018-09-17 08:49:53</td>\n",
       "      <td>130</td>\n",
       "      <td>Ads</td>\n",
       "      <td>Debit Card</td>\n",
       "      <td>1</td>\n",
       "    </tr>\n",
       "    <tr>\n",
       "      <td>54210</td>\n",
       "      <td>1746213</td>\n",
       "      <td>176456</td>\n",
       "      <td>2018-01-06 20:05:55</td>\n",
       "      <td>ZOJNAJMGNRQPZ</td>\n",
       "      <td>F</td>\n",
       "      <td>36</td>\n",
       "      <td>188.39.154.217</td>\n",
       "      <td>125450</td>\n",
       "      <td>902290f02e47</td>\n",
       "      <td>2018-04-10 04:20:07</td>\n",
       "      <td>42</td>\n",
       "      <td>Direct</td>\n",
       "      <td>Debit Card</td>\n",
       "      <td>0</td>\n",
       "    </tr>\n",
       "    <tr>\n",
       "      <td>54211</td>\n",
       "      <td>1746213</td>\n",
       "      <td>228277</td>\n",
       "      <td>2018-03-09 07:08:10</td>\n",
       "      <td>MQAOMNZFAHZLS</td>\n",
       "      <td>M</td>\n",
       "      <td>18</td>\n",
       "      <td>116.20.101.178</td>\n",
       "      <td>115567</td>\n",
       "      <td>f465038328e7</td>\n",
       "      <td>2018-06-21 03:35:43</td>\n",
       "      <td>82</td>\n",
       "      <td>Ads</td>\n",
       "      <td>Debit Card</td>\n",
       "      <td>0</td>\n",
       "    </tr>\n",
       "    <tr>\n",
       "      <td>54212</td>\n",
       "      <td>1746213</td>\n",
       "      <td>259077</td>\n",
       "      <td>2018-04-04 04:15:34</td>\n",
       "      <td>AYPFCYPYQLLMO</td>\n",
       "      <td>F</td>\n",
       "      <td>31</td>\n",
       "      <td>171.47.212.179</td>\n",
       "      <td>137621</td>\n",
       "      <td>7404ad53474a</td>\n",
       "      <td>2018-06-06 06:30:11</td>\n",
       "      <td>98</td>\n",
       "      <td>SEO</td>\n",
       "      <td>E-wallet</td>\n",
       "      <td>0</td>\n",
       "    </tr>\n",
       "  </tbody>\n",
       "</table>\n",
       "<p>54213 rows × 14 columns</p>\n",
       "</div>"
      ],
      "text/plain": [
       "       Ecommerce_Provider_ID  Merchant_ID Merchant_Registration_Date  \\\n",
       "0                    1746213        50448        2018-05-01 21:15:11   \n",
       "1                    1746213       338754        2018-04-14 10:13:00   \n",
       "2                    1746213       291127        2018-06-20 07:44:22   \n",
       "3                    1746213       319919        2018-06-27 01:41:39   \n",
       "4                    1746213       195911        2018-01-05 00:55:41   \n",
       "...                      ...          ...                        ...   \n",
       "54208                1746213       222372        2018-05-01 21:58:19   \n",
       "54209                1746213        73491        2018-06-11 19:54:13   \n",
       "54210                1746213       176456        2018-01-06 20:05:55   \n",
       "54211                1746213       228277        2018-03-09 07:08:10   \n",
       "54212                1746213       259077        2018-04-04 04:15:34   \n",
       "\n",
       "      Registered_Device_ID Gender  Age      IP_Address  Customer_ID  \\\n",
       "0            VATQMMZTVOZUT      F   39   48.151.136.76       129697   \n",
       "1            LJCILLBRQZNKS      M   35    94.9.145.169       117390   \n",
       "2            JFVHSUGKDAYZV      F   40   58.94.157.121       120162   \n",
       "3            WFRXMPLQYXRMY      M   37  193.187.41.186       128228   \n",
       "4            GGHKWMSWHCMID      F   27   125.96.20.172       136029   \n",
       "...                    ...    ...  ...             ...          ...   \n",
       "54208        KGVMENGCIAVOK      M   43   247.25.244.31       111700   \n",
       "54209        QJGPOYDONTYCN      M   41   80.30.170.122       122148   \n",
       "54210        ZOJNAJMGNRQPZ      F   36  188.39.154.217       125450   \n",
       "54211        MQAOMNZFAHZLS      M   18  116.20.101.178       115567   \n",
       "54212        AYPFCYPYQLLMO      F   31  171.47.212.179       137621   \n",
       "\n",
       "           Order_ID       Date_of_Order  Order_Value_USD Order_Source  \\\n",
       "0      3b8983a83c7b 2018-07-30 10:59:13               90          SEO   \n",
       "1      34b5eb921228 2018-06-15 11:19:47               98          SEO   \n",
       "2      41a1c86ff08b 2018-08-13 10:06:26               95          SEO   \n",
       "3      e8c3ad80d916 2018-07-22 15:46:51              100       Direct   \n",
       "4      e71ab1f26785 2018-04-16 08:02:44               78          SEO   \n",
       "...             ...                 ...              ...          ...   \n",
       "54208  58d25819870c 2018-06-12 17:18:37              108          Ads   \n",
       "54209  569444812870 2018-09-17 08:49:53              130          Ads   \n",
       "54210  902290f02e47 2018-04-10 04:20:07               42       Direct   \n",
       "54211  f465038328e7 2018-06-21 03:35:43               82          Ads   \n",
       "54212  7404ad53474a 2018-06-06 06:30:11               98          SEO   \n",
       "\n",
       "      Order_Payment_Method  Fraudster  \n",
       "0               Debit Card          0  \n",
       "1         Internet Banking          0  \n",
       "2              Credit Card          0  \n",
       "3                 E-wallet          0  \n",
       "4                 E-wallet          0  \n",
       "...                    ...        ...  \n",
       "54208             E-wallet          0  \n",
       "54209           Debit Card          1  \n",
       "54210           Debit Card          0  \n",
       "54211           Debit Card          0  \n",
       "54212             E-wallet          0  \n",
       "\n",
       "[54213 rows x 14 columns]"
      ]
     },
     "execution_count": 12,
     "metadata": {},
     "output_type": "execute_result"
    }
   ],
   "source": [
    "dataset_merchant_order_fraud"
   ]
  },
  {
   "cell_type": "markdown",
   "metadata": {},
   "source": [
    "### Understand The dataset"
   ]
  },
  {
   "cell_type": "code",
   "execution_count": 13,
   "metadata": {},
   "outputs": [
    {
     "data": {
      "text/html": [
       "<div>\n",
       "<style scoped>\n",
       "    .dataframe tbody tr th:only-of-type {\n",
       "        vertical-align: middle;\n",
       "    }\n",
       "\n",
       "    .dataframe tbody tr th {\n",
       "        vertical-align: top;\n",
       "    }\n",
       "\n",
       "    .dataframe thead th {\n",
       "        text-align: right;\n",
       "    }\n",
       "</style>\n",
       "<table border=\"1\" class=\"dataframe\">\n",
       "  <thead>\n",
       "    <tr style=\"text-align: right;\">\n",
       "      <th></th>\n",
       "      <th>Ecommerce_Provider_ID</th>\n",
       "      <th>Merchant_ID</th>\n",
       "      <th>Age</th>\n",
       "      <th>Customer_ID</th>\n",
       "      <th>Order_Value_USD</th>\n",
       "      <th>Fraudster</th>\n",
       "    </tr>\n",
       "  </thead>\n",
       "  <tbody>\n",
       "    <tr>\n",
       "      <td>count</td>\n",
       "      <td>54213.0</td>\n",
       "      <td>54213.000000</td>\n",
       "      <td>54213.000000</td>\n",
       "      <td>54213.000000</td>\n",
       "      <td>54213.000000</td>\n",
       "      <td>54213.00000</td>\n",
       "    </tr>\n",
       "    <tr>\n",
       "      <td>mean</td>\n",
       "      <td>1746213.0</td>\n",
       "      <td>200395.176212</td>\n",
       "      <td>33.122240</td>\n",
       "      <td>137966.285208</td>\n",
       "      <td>92.230240</td>\n",
       "      <td>0.09269</td>\n",
       "    </tr>\n",
       "    <tr>\n",
       "      <td>std</td>\n",
       "      <td>0.0</td>\n",
       "      <td>115398.486895</td>\n",
       "      <td>8.630091</td>\n",
       "      <td>15563.516156</td>\n",
       "      <td>45.673263</td>\n",
       "      <td>0.29000</td>\n",
       "    </tr>\n",
       "    <tr>\n",
       "      <td>min</td>\n",
       "      <td>1746213.0</td>\n",
       "      <td>2.000000</td>\n",
       "      <td>18.000000</td>\n",
       "      <td>111234.000000</td>\n",
       "      <td>22.000000</td>\n",
       "      <td>0.00000</td>\n",
       "    </tr>\n",
       "    <tr>\n",
       "      <td>25%</td>\n",
       "      <td>1746213.0</td>\n",
       "      <td>100997.000000</td>\n",
       "      <td>27.000000</td>\n",
       "      <td>124471.000000</td>\n",
       "      <td>55.000000</td>\n",
       "      <td>0.00000</td>\n",
       "    </tr>\n",
       "    <tr>\n",
       "      <td>50%</td>\n",
       "      <td>1746213.0</td>\n",
       "      <td>200574.000000</td>\n",
       "      <td>32.000000</td>\n",
       "      <td>137864.000000</td>\n",
       "      <td>88.000000</td>\n",
       "      <td>0.00000</td>\n",
       "    </tr>\n",
       "    <tr>\n",
       "      <td>75%</td>\n",
       "      <td>1746213.0</td>\n",
       "      <td>300407.000000</td>\n",
       "      <td>39.000000</td>\n",
       "      <td>151405.000000</td>\n",
       "      <td>122.000000</td>\n",
       "      <td>0.00000</td>\n",
       "    </tr>\n",
       "    <tr>\n",
       "      <td>max</td>\n",
       "      <td>1746213.0</td>\n",
       "      <td>399993.000000</td>\n",
       "      <td>72.000000</td>\n",
       "      <td>165000.000000</td>\n",
       "      <td>385.000000</td>\n",
       "      <td>1.00000</td>\n",
       "    </tr>\n",
       "  </tbody>\n",
       "</table>\n",
       "</div>"
      ],
      "text/plain": [
       "       Ecommerce_Provider_ID    Merchant_ID           Age    Customer_ID  \\\n",
       "count                54213.0   54213.000000  54213.000000   54213.000000   \n",
       "mean               1746213.0  200395.176212     33.122240  137966.285208   \n",
       "std                      0.0  115398.486895      8.630091   15563.516156   \n",
       "min                1746213.0       2.000000     18.000000  111234.000000   \n",
       "25%                1746213.0  100997.000000     27.000000  124471.000000   \n",
       "50%                1746213.0  200574.000000     32.000000  137864.000000   \n",
       "75%                1746213.0  300407.000000     39.000000  151405.000000   \n",
       "max                1746213.0  399993.000000     72.000000  165000.000000   \n",
       "\n",
       "       Order_Value_USD    Fraudster  \n",
       "count     54213.000000  54213.00000  \n",
       "mean         92.230240      0.09269  \n",
       "std          45.673263      0.29000  \n",
       "min          22.000000      0.00000  \n",
       "25%          55.000000      0.00000  \n",
       "50%          88.000000      0.00000  \n",
       "75%         122.000000      0.00000  \n",
       "max         385.000000      1.00000  "
      ]
     },
     "execution_count": 13,
     "metadata": {},
     "output_type": "execute_result"
    }
   ],
   "source": [
    "dataset_merchant_order_fraud.describe()"
   ]
  },
  {
   "cell_type": "markdown",
   "metadata": {},
   "source": [
    "#### Ecommerce ID is redundant so we can remove that column"
   ]
  },
  {
   "cell_type": "markdown",
   "metadata": {},
   "source": [
    "##### Describe the merged data"
   ]
  },
  {
   "cell_type": "code",
   "execution_count": 14,
   "metadata": {},
   "outputs": [
    {
     "data": {
      "text/plain": [
       "Ecommerce_Provider_ID                  int64\n",
       "Merchant_ID                            int64\n",
       "Merchant_Registration_Date    datetime64[ns]\n",
       "Registered_Device_ID                  object\n",
       "Gender                                object\n",
       "Age                                    int64\n",
       "IP_Address                            object\n",
       "Customer_ID                            int64\n",
       "Order_ID                              object\n",
       "Date_of_Order                 datetime64[ns]\n",
       "Order_Value_USD                        int64\n",
       "Order_Source                          object\n",
       "Order_Payment_Method                  object\n",
       "Fraudster                              int64\n",
       "dtype: object"
      ]
     },
     "execution_count": 14,
     "metadata": {},
     "output_type": "execute_result"
    }
   ],
   "source": [
    "# What are the types of data\n",
    "dataset_merchant_order_fraud.dtypes"
   ]
  },
  {
   "cell_type": "code",
   "execution_count": 15,
   "metadata": {},
   "outputs": [
    {
     "data": {
      "text/html": [
       "<div>\n",
       "<style scoped>\n",
       "    .dataframe tbody tr th:only-of-type {\n",
       "        vertical-align: middle;\n",
       "    }\n",
       "\n",
       "    .dataframe tbody tr th {\n",
       "        vertical-align: top;\n",
       "    }\n",
       "\n",
       "    .dataframe thead th {\n",
       "        text-align: right;\n",
       "    }\n",
       "</style>\n",
       "<table border=\"1\" class=\"dataframe\">\n",
       "  <thead>\n",
       "    <tr style=\"text-align: right;\">\n",
       "      <th></th>\n",
       "      <th>Ecommerce_Provider_ID</th>\n",
       "      <th>Merchant_ID</th>\n",
       "      <th>Age</th>\n",
       "      <th>Customer_ID</th>\n",
       "      <th>Order_Value_USD</th>\n",
       "      <th>Fraudster</th>\n",
       "    </tr>\n",
       "  </thead>\n",
       "  <tbody>\n",
       "    <tr>\n",
       "      <td>count</td>\n",
       "      <td>54213.0</td>\n",
       "      <td>54213.000000</td>\n",
       "      <td>54213.000000</td>\n",
       "      <td>54213.000000</td>\n",
       "      <td>54213.000000</td>\n",
       "      <td>54213.00000</td>\n",
       "    </tr>\n",
       "    <tr>\n",
       "      <td>mean</td>\n",
       "      <td>1746213.0</td>\n",
       "      <td>200395.176212</td>\n",
       "      <td>33.122240</td>\n",
       "      <td>137966.285208</td>\n",
       "      <td>92.230240</td>\n",
       "      <td>0.09269</td>\n",
       "    </tr>\n",
       "    <tr>\n",
       "      <td>std</td>\n",
       "      <td>0.0</td>\n",
       "      <td>115398.486895</td>\n",
       "      <td>8.630091</td>\n",
       "      <td>15563.516156</td>\n",
       "      <td>45.673263</td>\n",
       "      <td>0.29000</td>\n",
       "    </tr>\n",
       "    <tr>\n",
       "      <td>min</td>\n",
       "      <td>1746213.0</td>\n",
       "      <td>2.000000</td>\n",
       "      <td>18.000000</td>\n",
       "      <td>111234.000000</td>\n",
       "      <td>22.000000</td>\n",
       "      <td>0.00000</td>\n",
       "    </tr>\n",
       "    <tr>\n",
       "      <td>25%</td>\n",
       "      <td>1746213.0</td>\n",
       "      <td>100997.000000</td>\n",
       "      <td>27.000000</td>\n",
       "      <td>124471.000000</td>\n",
       "      <td>55.000000</td>\n",
       "      <td>0.00000</td>\n",
       "    </tr>\n",
       "    <tr>\n",
       "      <td>50%</td>\n",
       "      <td>1746213.0</td>\n",
       "      <td>200574.000000</td>\n",
       "      <td>32.000000</td>\n",
       "      <td>137864.000000</td>\n",
       "      <td>88.000000</td>\n",
       "      <td>0.00000</td>\n",
       "    </tr>\n",
       "    <tr>\n",
       "      <td>75%</td>\n",
       "      <td>1746213.0</td>\n",
       "      <td>300407.000000</td>\n",
       "      <td>39.000000</td>\n",
       "      <td>151405.000000</td>\n",
       "      <td>122.000000</td>\n",
       "      <td>0.00000</td>\n",
       "    </tr>\n",
       "    <tr>\n",
       "      <td>max</td>\n",
       "      <td>1746213.0</td>\n",
       "      <td>399993.000000</td>\n",
       "      <td>72.000000</td>\n",
       "      <td>165000.000000</td>\n",
       "      <td>385.000000</td>\n",
       "      <td>1.00000</td>\n",
       "    </tr>\n",
       "  </tbody>\n",
       "</table>\n",
       "</div>"
      ],
      "text/plain": [
       "       Ecommerce_Provider_ID    Merchant_ID           Age    Customer_ID  \\\n",
       "count                54213.0   54213.000000  54213.000000   54213.000000   \n",
       "mean               1746213.0  200395.176212     33.122240  137966.285208   \n",
       "std                      0.0  115398.486895      8.630091   15563.516156   \n",
       "min                1746213.0       2.000000     18.000000  111234.000000   \n",
       "25%                1746213.0  100997.000000     27.000000  124471.000000   \n",
       "50%                1746213.0  200574.000000     32.000000  137864.000000   \n",
       "75%                1746213.0  300407.000000     39.000000  151405.000000   \n",
       "max                1746213.0  399993.000000     72.000000  165000.000000   \n",
       "\n",
       "       Order_Value_USD    Fraudster  \n",
       "count     54213.000000  54213.00000  \n",
       "mean         92.230240      0.09269  \n",
       "std          45.673263      0.29000  \n",
       "min          22.000000      0.00000  \n",
       "25%          55.000000      0.00000  \n",
       "50%          88.000000      0.00000  \n",
       "75%         122.000000      0.00000  \n",
       "max         385.000000      1.00000  "
      ]
     },
     "execution_count": 15,
     "metadata": {},
     "output_type": "execute_result"
    }
   ],
   "source": [
    "# What is the distribution of numerical columns?\n",
    "dataset_merchant_order_fraud.describe()\n",
    "# Ecommerce_Provider_ID is same throughout , we can remove them"
   ]
  },
  {
   "cell_type": "code",
   "execution_count": 16,
   "metadata": {},
   "outputs": [],
   "source": [
    "dataset_merchant_order_fraud = dataset_merchant_order_fraud.drop(['Ecommerce_Provider_ID'], axis = 1)"
   ]
  },
  {
   "cell_type": "code",
   "execution_count": 17,
   "metadata": {},
   "outputs": [
    {
     "data": {
      "text/html": [
       "<div>\n",
       "<style scoped>\n",
       "    .dataframe tbody tr th:only-of-type {\n",
       "        vertical-align: middle;\n",
       "    }\n",
       "\n",
       "    .dataframe tbody tr th {\n",
       "        vertical-align: top;\n",
       "    }\n",
       "\n",
       "    .dataframe thead th {\n",
       "        text-align: right;\n",
       "    }\n",
       "</style>\n",
       "<table border=\"1\" class=\"dataframe\">\n",
       "  <thead>\n",
       "    <tr style=\"text-align: right;\">\n",
       "      <th></th>\n",
       "      <th>Registered_Device_ID</th>\n",
       "      <th>Gender</th>\n",
       "      <th>IP_Address</th>\n",
       "      <th>Order_ID</th>\n",
       "      <th>Order_Source</th>\n",
       "      <th>Order_Payment_Method</th>\n",
       "    </tr>\n",
       "  </thead>\n",
       "  <tbody>\n",
       "    <tr>\n",
       "      <td>count</td>\n",
       "      <td>54213</td>\n",
       "      <td>54213</td>\n",
       "      <td>54213</td>\n",
       "      <td>54213</td>\n",
       "      <td>54213</td>\n",
       "      <td>54213</td>\n",
       "    </tr>\n",
       "    <tr>\n",
       "      <td>unique</td>\n",
       "      <td>51291</td>\n",
       "      <td>2</td>\n",
       "      <td>52028</td>\n",
       "      <td>54213</td>\n",
       "      <td>3</td>\n",
       "      <td>5</td>\n",
       "    </tr>\n",
       "    <tr>\n",
       "      <td>top</td>\n",
       "      <td>USYRYIUTYSOKD</td>\n",
       "      <td>M</td>\n",
       "      <td>107.29.25.29</td>\n",
       "      <td>90cd1b5b780f</td>\n",
       "      <td>SEO</td>\n",
       "      <td>Credit Card</td>\n",
       "    </tr>\n",
       "    <tr>\n",
       "      <td>freq</td>\n",
       "      <td>9</td>\n",
       "      <td>31761</td>\n",
       "      <td>9</td>\n",
       "      <td>1</td>\n",
       "      <td>21884</td>\n",
       "      <td>21844</td>\n",
       "    </tr>\n",
       "  </tbody>\n",
       "</table>\n",
       "</div>"
      ],
      "text/plain": [
       "       Registered_Device_ID Gender    IP_Address      Order_ID Order_Source  \\\n",
       "count                 54213  54213         54213         54213        54213   \n",
       "unique                51291      2         52028         54213            3   \n",
       "top           USYRYIUTYSOKD      M  107.29.25.29  90cd1b5b780f          SEO   \n",
       "freq                      9  31761             9             1        21884   \n",
       "\n",
       "       Order_Payment_Method  \n",
       "count                 54213  \n",
       "unique                    5  \n",
       "top             Credit Card  \n",
       "freq                  21844  "
      ]
     },
     "execution_count": 17,
     "metadata": {},
     "output_type": "execute_result"
    }
   ],
   "source": [
    "# What is the distribution of numerical columns?\n",
    "dataset_merchant_order_fraud.describe(include=['object'])"
   ]
  },
  {
   "cell_type": "code",
   "execution_count": 18,
   "metadata": {},
   "outputs": [
    {
     "data": {
      "text/plain": [
       "0    49188\n",
       "1     5025\n",
       "Name: Fraudster, dtype: int64"
      ]
     },
     "execution_count": 18,
     "metadata": {},
     "output_type": "execute_result"
    }
   ],
   "source": [
    "dataset_merchant_order_fraud.Fraudster.value_counts()"
   ]
  },
  {
   "cell_type": "markdown",
   "metadata": {},
   "source": [
    "### Plot showing the percentage of people who have committed fraud"
   ]
  },
  {
   "cell_type": "code",
   "execution_count": 19,
   "metadata": {},
   "outputs": [
    {
     "data": {
      "image/png": "[encoded data removed]",
      "text/plain": [
       "<Figure size 432x288 with 1 Axes>"
      ]
     },
     "metadata": {
      "needs_background": "light"
     },
     "output_type": "display_data"
    },
    {
     "name": "stdout",
     "output_type": "stream",
     "text": [
      "0    49188\n",
      "1     5025\n",
      "Name: Fraudster, dtype: int64\n",
      "Percentage of people who have committed: 9.268994521609208 %\n"
     ]
    }
   ],
   "source": [
    "sns.countplot(x='Fraudster',data=dataset_merchant_order_fraud)\n",
    "plt.show()\n",
    "\n",
    "# What are the counts?\n",
    "print(dataset_merchant_order_fraud.Fraudster.value_counts())\n",
    "\n",
    "# What is the percentage of frauds?\n",
    "count_yes = len(dataset_merchant_order_fraud[dataset_merchant_order_fraud.Fraudster == 1])\n",
    "count_no = len(dataset_merchant_order_fraud[dataset_merchant_order_fraud.Fraudster == 0])\n",
    "\n",
    "percent_success = (count_yes/(count_yes + count_no))*100\n",
    "\n",
    "print('Percentage of people who have committed:', percent_success, \"%\")"
   ]
  },
  {
   "cell_type": "code",
   "execution_count": 20,
   "metadata": {},
   "outputs": [
    {
     "data": {
      "text/html": [
       "<div>\n",
       "<style scoped>\n",
       "    .dataframe tbody tr th:only-of-type {\n",
       "        vertical-align: middle;\n",
       "    }\n",
       "\n",
       "    .dataframe tbody tr th {\n",
       "        vertical-align: top;\n",
       "    }\n",
       "\n",
       "    .dataframe thead th {\n",
       "        text-align: right;\n",
       "    }\n",
       "</style>\n",
       "<table border=\"1\" class=\"dataframe\">\n",
       "  <thead>\n",
       "    <tr style=\"text-align: right;\">\n",
       "      <th></th>\n",
       "      <th>Merchant_ID</th>\n",
       "      <th>Merchant_Registration_Date</th>\n",
       "      <th>Registered_Device_ID</th>\n",
       "      <th>Gender</th>\n",
       "      <th>Age</th>\n",
       "      <th>IP_Address</th>\n",
       "      <th>Customer_ID</th>\n",
       "      <th>Order_ID</th>\n",
       "      <th>Date_of_Order</th>\n",
       "      <th>Order_Value_USD</th>\n",
       "      <th>Order_Source</th>\n",
       "      <th>Order_Payment_Method</th>\n",
       "      <th>Fraudster</th>\n",
       "    </tr>\n",
       "  </thead>\n",
       "  <tbody>\n",
       "    <tr>\n",
       "      <td>0</td>\n",
       "      <td>50448</td>\n",
       "      <td>2018-05-01 21:15:11</td>\n",
       "      <td>VATQMMZTVOZUT</td>\n",
       "      <td>F</td>\n",
       "      <td>39</td>\n",
       "      <td>48.151.136.76</td>\n",
       "      <td>129697</td>\n",
       "      <td>3b8983a83c7b</td>\n",
       "      <td>2018-07-30 10:59:13</td>\n",
       "      <td>90</td>\n",
       "      <td>SEO</td>\n",
       "      <td>Debit Card</td>\n",
       "      <td>0</td>\n",
       "    </tr>\n",
       "    <tr>\n",
       "      <td>1</td>\n",
       "      <td>338754</td>\n",
       "      <td>2018-04-14 10:13:00</td>\n",
       "      <td>LJCILLBRQZNKS</td>\n",
       "      <td>M</td>\n",
       "      <td>35</td>\n",
       "      <td>94.9.145.169</td>\n",
       "      <td>117390</td>\n",
       "      <td>34b5eb921228</td>\n",
       "      <td>2018-06-15 11:19:47</td>\n",
       "      <td>98</td>\n",
       "      <td>SEO</td>\n",
       "      <td>Internet Banking</td>\n",
       "      <td>0</td>\n",
       "    </tr>\n",
       "    <tr>\n",
       "      <td>2</td>\n",
       "      <td>291127</td>\n",
       "      <td>2018-06-20 07:44:22</td>\n",
       "      <td>JFVHSUGKDAYZV</td>\n",
       "      <td>F</td>\n",
       "      <td>40</td>\n",
       "      <td>58.94.157.121</td>\n",
       "      <td>120162</td>\n",
       "      <td>41a1c86ff08b</td>\n",
       "      <td>2018-08-13 10:06:26</td>\n",
       "      <td>95</td>\n",
       "      <td>SEO</td>\n",
       "      <td>Credit Card</td>\n",
       "      <td>0</td>\n",
       "    </tr>\n",
       "    <tr>\n",
       "      <td>3</td>\n",
       "      <td>319919</td>\n",
       "      <td>2018-06-27 01:41:39</td>\n",
       "      <td>WFRXMPLQYXRMY</td>\n",
       "      <td>M</td>\n",
       "      <td>37</td>\n",
       "      <td>193.187.41.186</td>\n",
       "      <td>128228</td>\n",
       "      <td>e8c3ad80d916</td>\n",
       "      <td>2018-07-22 15:46:51</td>\n",
       "      <td>100</td>\n",
       "      <td>Direct</td>\n",
       "      <td>E-wallet</td>\n",
       "      <td>0</td>\n",
       "    </tr>\n",
       "    <tr>\n",
       "      <td>4</td>\n",
       "      <td>195911</td>\n",
       "      <td>2018-01-05 00:55:41</td>\n",
       "      <td>GGHKWMSWHCMID</td>\n",
       "      <td>F</td>\n",
       "      <td>27</td>\n",
       "      <td>125.96.20.172</td>\n",
       "      <td>136029</td>\n",
       "      <td>e71ab1f26785</td>\n",
       "      <td>2018-04-16 08:02:44</td>\n",
       "      <td>78</td>\n",
       "      <td>SEO</td>\n",
       "      <td>E-wallet</td>\n",
       "      <td>0</td>\n",
       "    </tr>\n",
       "  </tbody>\n",
       "</table>\n",
       "</div>"
      ],
      "text/plain": [
       "   Merchant_ID Merchant_Registration_Date Registered_Device_ID Gender  Age  \\\n",
       "0        50448        2018-05-01 21:15:11        VATQMMZTVOZUT      F   39   \n",
       "1       338754        2018-04-14 10:13:00        LJCILLBRQZNKS      M   35   \n",
       "2       291127        2018-06-20 07:44:22        JFVHSUGKDAYZV      F   40   \n",
       "3       319919        2018-06-27 01:41:39        WFRXMPLQYXRMY      M   37   \n",
       "4       195911        2018-01-05 00:55:41        GGHKWMSWHCMID      F   27   \n",
       "\n",
       "       IP_Address  Customer_ID      Order_ID       Date_of_Order  \\\n",
       "0   48.151.136.76       129697  3b8983a83c7b 2018-07-30 10:59:13   \n",
       "1    94.9.145.169       117390  34b5eb921228 2018-06-15 11:19:47   \n",
       "2   58.94.157.121       120162  41a1c86ff08b 2018-08-13 10:06:26   \n",
       "3  193.187.41.186       128228  e8c3ad80d916 2018-07-22 15:46:51   \n",
       "4   125.96.20.172       136029  e71ab1f26785 2018-04-16 08:02:44   \n",
       "\n",
       "   Order_Value_USD Order_Source Order_Payment_Method  Fraudster  \n",
       "0               90          SEO           Debit Card          0  \n",
       "1               98          SEO     Internet Banking          0  \n",
       "2               95          SEO          Credit Card          0  \n",
       "3              100       Direct             E-wallet          0  \n",
       "4               78          SEO             E-wallet          0  "
      ]
     },
     "execution_count": 20,
     "metadata": {},
     "output_type": "execute_result"
    }
   ],
   "source": [
    "dataset_merchant_order_fraud.head()"
   ]
  },
  {
   "cell_type": "markdown",
   "metadata": {},
   "source": [
    "### Distribution of Other Variables"
   ]
  },
  {
   "cell_type": "code",
   "execution_count": 21,
   "metadata": {},
   "outputs": [
    {
     "data": {
      "image/png": "[encoded data removed]",
      "text/plain": [
       "<Figure size 432x288 with 1 Axes>"
      ]
     },
     "metadata": {
      "needs_background": "light"
     },
     "output_type": "display_data"
    },
    {
     "name": "stdout",
     "output_type": "stream",
     "text": [
      "M    31761\n",
      "F    22452\n",
      "Name: Gender, dtype: int64\n"
     ]
    }
   ],
   "source": [
    "sns.countplot(x='Gender',data=dataset_merchant_order_fraud)\n",
    "plt.show()\n",
    "\n",
    "# What are the counts?\n",
    "print(dataset_merchant_order_fraud.Gender.value_counts())\n",
    "\n",
    "# What is the percentage?\n",
    "count_yes = len(dataset_merchant_order_fraud[dataset_merchant_order_fraud.Gender == 'M'])\n",
    "count_no = len(dataset_merchant_order_fraud[dataset_merchant_order_fraud.Gender == 'F'])\n",
    "\n",
    "\n",
    "# The propotion of female population is 41.41%"
   ]
  },
  {
   "cell_type": "code",
   "execution_count": 22,
   "metadata": {},
   "outputs": [
    {
     "data": {
      "text/plain": [
       "Merchant_ID                   0\n",
       "Merchant_Registration_Date    0\n",
       "Registered_Device_ID          0\n",
       "Gender                        0\n",
       "Age                           0\n",
       "IP_Address                    0\n",
       "Customer_ID                   0\n",
       "Order_ID                      0\n",
       "Date_of_Order                 0\n",
       "Order_Value_USD               0\n",
       "Order_Source                  0\n",
       "Order_Payment_Method          0\n",
       "Fraudster                     0\n",
       "dtype: int64"
      ]
     },
     "execution_count": 22,
     "metadata": {},
     "output_type": "execute_result"
    }
   ],
   "source": [
    "dataset_merchant_order_fraud.isnull().sum()\n",
    "# No Missing Values"
   ]
  },
  {
   "cell_type": "code",
   "execution_count": 23,
   "metadata": {},
   "outputs": [
    {
     "data": {
      "text/plain": [
       "M    2990\n",
       "F    2035\n",
       "Name: Gender, dtype: int64"
      ]
     },
     "execution_count": 23,
     "metadata": {},
     "output_type": "execute_result"
    }
   ],
   "source": [
    "dataset_merchant_order_fraud[dataset_merchant_order_fraud.Fraudster == 1].Gender.value_counts()\n",
    "# Males are more prone to committing frauds."
   ]
  },
  {
   "cell_type": "code",
   "execution_count": 24,
   "metadata": {},
   "outputs": [
    {
     "data": {
      "text/plain": [
       "SEO       21884\n",
       "Ads       21259\n",
       "Direct    11070\n",
       "Name: Order_Source, dtype: int64"
      ]
     },
     "execution_count": 24,
     "metadata": {},
     "output_type": "execute_result"
    }
   ],
   "source": [
    "dataset_merchant_order_fraud.Order_Source.value_counts()\n",
    "# Order Source has 3 categories SEO, Ads, Direct"
   ]
  },
  {
   "cell_type": "code",
   "execution_count": 25,
   "metadata": {},
   "outputs": [
    {
     "data": {
      "text/plain": [
       "Merchant_ID                            int64\n",
       "Merchant_Registration_Date    datetime64[ns]\n",
       "Registered_Device_ID                  object\n",
       "Gender                                object\n",
       "Age                                    int64\n",
       "IP_Address                            object\n",
       "Customer_ID                            int64\n",
       "Order_ID                              object\n",
       "Date_of_Order                 datetime64[ns]\n",
       "Order_Value_USD                        int64\n",
       "Order_Source                          object\n",
       "Order_Payment_Method                  object\n",
       "Fraudster                              int64\n",
       "dtype: object"
      ]
     },
     "execution_count": 25,
     "metadata": {},
     "output_type": "execute_result"
    }
   ],
   "source": [
    "dataset_merchant_order_fraud.dtypes"
   ]
  },
  {
   "cell_type": "code",
   "execution_count": 26,
   "metadata": {},
   "outputs": [
    {
     "data": {
      "text/plain": [
       "107.29.25.29       9\n",
       "115.241.135.193    9\n",
       "137.29.157.65      9\n",
       "136.189.191.154    9\n",
       "107.136.93.76      9\n",
       "                  ..\n",
       "216.89.236.247     1\n",
       "143.215.143.7      1\n",
       "205.254.227.219    1\n",
       "99.89.130.61       1\n",
       "38.82.117.36       1\n",
       "Name: IP_Address, Length: 52028, dtype: int64"
      ]
     },
     "execution_count": 26,
     "metadata": {},
     "output_type": "execute_result"
    }
   ],
   "source": [
    "dataset_merchant_order_fraud.IP_Address.value_counts()"
   ]
  },
  {
   "cell_type": "code",
   "execution_count": 27,
   "metadata": {},
   "outputs": [
    {
     "data": {
      "text/html": [
       "<div>\n",
       "<style scoped>\n",
       "    .dataframe tbody tr th:only-of-type {\n",
       "        vertical-align: middle;\n",
       "    }\n",
       "\n",
       "    .dataframe tbody tr th {\n",
       "        vertical-align: top;\n",
       "    }\n",
       "\n",
       "    .dataframe thead th {\n",
       "        text-align: right;\n",
       "    }\n",
       "</style>\n",
       "<table border=\"1\" class=\"dataframe\">\n",
       "  <thead>\n",
       "    <tr style=\"text-align: right;\">\n",
       "      <th></th>\n",
       "      <th>Merchant_ID</th>\n",
       "      <th>Merchant_Registration_Date</th>\n",
       "      <th>Registered_Device_ID</th>\n",
       "      <th>Gender</th>\n",
       "      <th>Age</th>\n",
       "      <th>Customer_ID</th>\n",
       "      <th>Order_ID</th>\n",
       "      <th>Date_of_Order</th>\n",
       "      <th>Order_Value_USD</th>\n",
       "      <th>Order_Source</th>\n",
       "      <th>Order_Payment_Method</th>\n",
       "      <th>Fraudster</th>\n",
       "    </tr>\n",
       "    <tr>\n",
       "      <th>IP_Address</th>\n",
       "      <th></th>\n",
       "      <th></th>\n",
       "      <th></th>\n",
       "      <th></th>\n",
       "      <th></th>\n",
       "      <th></th>\n",
       "      <th></th>\n",
       "      <th></th>\n",
       "      <th></th>\n",
       "      <th></th>\n",
       "      <th></th>\n",
       "      <th></th>\n",
       "    </tr>\n",
       "  </thead>\n",
       "  <tbody>\n",
       "    <tr>\n",
       "      <td>0.0.203.125</td>\n",
       "      <td>1</td>\n",
       "      <td>1</td>\n",
       "      <td>1</td>\n",
       "      <td>1</td>\n",
       "      <td>1</td>\n",
       "      <td>1</td>\n",
       "      <td>1</td>\n",
       "      <td>1</td>\n",
       "      <td>1</td>\n",
       "      <td>1</td>\n",
       "      <td>1</td>\n",
       "      <td>1</td>\n",
       "    </tr>\n",
       "    <tr>\n",
       "      <td>0.10.42.221</td>\n",
       "      <td>1</td>\n",
       "      <td>1</td>\n",
       "      <td>1</td>\n",
       "      <td>1</td>\n",
       "      <td>1</td>\n",
       "      <td>1</td>\n",
       "      <td>1</td>\n",
       "      <td>1</td>\n",
       "      <td>1</td>\n",
       "      <td>1</td>\n",
       "      <td>1</td>\n",
       "      <td>1</td>\n",
       "    </tr>\n",
       "    <tr>\n",
       "      <td>0.102.175.212</td>\n",
       "      <td>1</td>\n",
       "      <td>1</td>\n",
       "      <td>1</td>\n",
       "      <td>1</td>\n",
       "      <td>1</td>\n",
       "      <td>1</td>\n",
       "      <td>1</td>\n",
       "      <td>1</td>\n",
       "      <td>1</td>\n",
       "      <td>1</td>\n",
       "      <td>1</td>\n",
       "      <td>1</td>\n",
       "    </tr>\n",
       "    <tr>\n",
       "      <td>0.107.121.164</td>\n",
       "      <td>1</td>\n",
       "      <td>1</td>\n",
       "      <td>1</td>\n",
       "      <td>1</td>\n",
       "      <td>1</td>\n",
       "      <td>1</td>\n",
       "      <td>1</td>\n",
       "      <td>1</td>\n",
       "      <td>1</td>\n",
       "      <td>1</td>\n",
       "      <td>1</td>\n",
       "      <td>1</td>\n",
       "    </tr>\n",
       "    <tr>\n",
       "      <td>0.107.163.16</td>\n",
       "      <td>1</td>\n",
       "      <td>1</td>\n",
       "      <td>1</td>\n",
       "      <td>1</td>\n",
       "      <td>1</td>\n",
       "      <td>1</td>\n",
       "      <td>1</td>\n",
       "      <td>1</td>\n",
       "      <td>1</td>\n",
       "      <td>1</td>\n",
       "      <td>1</td>\n",
       "      <td>1</td>\n",
       "    </tr>\n",
       "    <tr>\n",
       "      <td>...</td>\n",
       "      <td>...</td>\n",
       "      <td>...</td>\n",
       "      <td>...</td>\n",
       "      <td>...</td>\n",
       "      <td>...</td>\n",
       "      <td>...</td>\n",
       "      <td>...</td>\n",
       "      <td>...</td>\n",
       "      <td>...</td>\n",
       "      <td>...</td>\n",
       "      <td>...</td>\n",
       "      <td>...</td>\n",
       "    </tr>\n",
       "    <tr>\n",
       "      <td>99.93.176.110</td>\n",
       "      <td>1</td>\n",
       "      <td>1</td>\n",
       "      <td>1</td>\n",
       "      <td>1</td>\n",
       "      <td>1</td>\n",
       "      <td>1</td>\n",
       "      <td>1</td>\n",
       "      <td>1</td>\n",
       "      <td>1</td>\n",
       "      <td>1</td>\n",
       "      <td>1</td>\n",
       "      <td>1</td>\n",
       "    </tr>\n",
       "    <tr>\n",
       "      <td>99.94.29.215</td>\n",
       "      <td>1</td>\n",
       "      <td>1</td>\n",
       "      <td>1</td>\n",
       "      <td>1</td>\n",
       "      <td>1</td>\n",
       "      <td>1</td>\n",
       "      <td>1</td>\n",
       "      <td>1</td>\n",
       "      <td>1</td>\n",
       "      <td>1</td>\n",
       "      <td>1</td>\n",
       "      <td>1</td>\n",
       "    </tr>\n",
       "    <tr>\n",
       "      <td>99.94.53.153</td>\n",
       "      <td>1</td>\n",
       "      <td>1</td>\n",
       "      <td>1</td>\n",
       "      <td>1</td>\n",
       "      <td>1</td>\n",
       "      <td>1</td>\n",
       "      <td>1</td>\n",
       "      <td>1</td>\n",
       "      <td>1</td>\n",
       "      <td>1</td>\n",
       "      <td>1</td>\n",
       "      <td>1</td>\n",
       "    </tr>\n",
       "    <tr>\n",
       "      <td>99.95.182.246</td>\n",
       "      <td>1</td>\n",
       "      <td>1</td>\n",
       "      <td>1</td>\n",
       "      <td>1</td>\n",
       "      <td>1</td>\n",
       "      <td>1</td>\n",
       "      <td>1</td>\n",
       "      <td>1</td>\n",
       "      <td>1</td>\n",
       "      <td>1</td>\n",
       "      <td>1</td>\n",
       "      <td>1</td>\n",
       "    </tr>\n",
       "    <tr>\n",
       "      <td>99.95.66.191</td>\n",
       "      <td>1</td>\n",
       "      <td>1</td>\n",
       "      <td>1</td>\n",
       "      <td>1</td>\n",
       "      <td>1</td>\n",
       "      <td>1</td>\n",
       "      <td>1</td>\n",
       "      <td>1</td>\n",
       "      <td>1</td>\n",
       "      <td>1</td>\n",
       "      <td>1</td>\n",
       "      <td>1</td>\n",
       "    </tr>\n",
       "  </tbody>\n",
       "</table>\n",
       "<p>52028 rows × 12 columns</p>\n",
       "</div>"
      ],
      "text/plain": [
       "               Merchant_ID  Merchant_Registration_Date  Registered_Device_ID  \\\n",
       "IP_Address                                                                     \n",
       "0.0.203.125              1                           1                     1   \n",
       "0.10.42.221              1                           1                     1   \n",
       "0.102.175.212            1                           1                     1   \n",
       "0.107.121.164            1                           1                     1   \n",
       "0.107.163.16             1                           1                     1   \n",
       "...                    ...                         ...                   ...   \n",
       "99.93.176.110            1                           1                     1   \n",
       "99.94.29.215             1                           1                     1   \n",
       "99.94.53.153             1                           1                     1   \n",
       "99.95.182.246            1                           1                     1   \n",
       "99.95.66.191             1                           1                     1   \n",
       "\n",
       "               Gender  Age  Customer_ID  Order_ID  Date_of_Order  \\\n",
       "IP_Address                                                         \n",
       "0.0.203.125         1    1            1         1              1   \n",
       "0.10.42.221         1    1            1         1              1   \n",
       "0.102.175.212       1    1            1         1              1   \n",
       "0.107.121.164       1    1            1         1              1   \n",
       "0.107.163.16        1    1            1         1              1   \n",
       "...               ...  ...          ...       ...            ...   \n",
       "99.93.176.110       1    1            1         1              1   \n",
       "99.94.29.215        1    1            1         1              1   \n",
       "99.94.53.153        1    1            1         1              1   \n",
       "99.95.182.246       1    1            1         1              1   \n",
       "99.95.66.191        1    1            1         1              1   \n",
       "\n",
       "               Order_Value_USD  Order_Source  Order_Payment_Method  Fraudster  \n",
       "IP_Address                                                                     \n",
       "0.0.203.125                  1             1                     1          1  \n",
       "0.10.42.221                  1             1                     1          1  \n",
       "0.102.175.212                1             1                     1          1  \n",
       "0.107.121.164                1             1                     1          1  \n",
       "0.107.163.16                 1             1                     1          1  \n",
       "...                        ...           ...                   ...        ...  \n",
       "99.93.176.110                1             1                     1          1  \n",
       "99.94.29.215                 1             1                     1          1  \n",
       "99.94.53.153                 1             1                     1          1  \n",
       "99.95.182.246                1             1                     1          1  \n",
       "99.95.66.191                 1             1                     1          1  \n",
       "\n",
       "[52028 rows x 12 columns]"
      ]
     },
     "execution_count": 27,
     "metadata": {},
     "output_type": "execute_result"
    }
   ],
   "source": [
    "dataset_merchant_order_fraud.groupby('IP_Address').count()"
   ]
  },
  {
   "cell_type": "code",
   "execution_count": 28,
   "metadata": {},
   "outputs": [
    {
     "data": {
      "text/plain": [
       "52028"
      ]
     },
     "execution_count": 28,
     "metadata": {},
     "output_type": "execute_result"
    }
   ],
   "source": [
    "dataset_merchant_order_fraud.IP_Address.nunique()"
   ]
  },
  {
   "cell_type": "code",
   "execution_count": 29,
   "metadata": {},
   "outputs": [
    {
     "data": {
      "text/plain": [
       "Merchant_ID                            int64\n",
       "Merchant_Registration_Date    datetime64[ns]\n",
       "Registered_Device_ID                  object\n",
       "Gender                                object\n",
       "Age                                    int64\n",
       "IP_Address                            object\n",
       "Customer_ID                            int64\n",
       "Order_ID                              object\n",
       "Date_of_Order                 datetime64[ns]\n",
       "Order_Value_USD                        int64\n",
       "Order_Source                          object\n",
       "Order_Payment_Method                  object\n",
       "Fraudster                              int64\n",
       "dtype: object"
      ]
     },
     "execution_count": 29,
     "metadata": {},
     "output_type": "execute_result"
    }
   ],
   "source": [
    "dataset_merchant_order_fraud.dtypes"
   ]
  },
  {
   "cell_type": "markdown",
   "metadata": {},
   "source": [
    "### Analysing IP_Boundaries_Countries"
   ]
  },
  {
   "cell_type": "code",
   "execution_count": 30,
   "metadata": {},
   "outputs": [
    {
     "data": {
      "text/html": [
       "<div>\n",
       "<style scoped>\n",
       "    .dataframe tbody tr th:only-of-type {\n",
       "        vertical-align: middle;\n",
       "    }\n",
       "\n",
       "    .dataframe tbody tr th {\n",
       "        vertical-align: top;\n",
       "    }\n",
       "\n",
       "    .dataframe thead th {\n",
       "        text-align: right;\n",
       "    }\n",
       "</style>\n",
       "<table border=\"1\" class=\"dataframe\">\n",
       "  <thead>\n",
       "    <tr style=\"text-align: right;\">\n",
       "      <th></th>\n",
       "      <th>lower_bound_ip_address</th>\n",
       "      <th>upper_bound_ip_address</th>\n",
       "      <th>country</th>\n",
       "    </tr>\n",
       "  </thead>\n",
       "  <tbody>\n",
       "    <tr>\n",
       "      <td>0</td>\n",
       "      <td>1.0.0.0</td>\n",
       "      <td>1.0.0.255</td>\n",
       "      <td>Australia</td>\n",
       "    </tr>\n",
       "    <tr>\n",
       "      <td>1</td>\n",
       "      <td>1.0.1.0</td>\n",
       "      <td>1.0.1.255</td>\n",
       "      <td>China</td>\n",
       "    </tr>\n",
       "    <tr>\n",
       "      <td>2</td>\n",
       "      <td>1.0.2.0</td>\n",
       "      <td>1.0.3.255</td>\n",
       "      <td>China</td>\n",
       "    </tr>\n",
       "    <tr>\n",
       "      <td>3</td>\n",
       "      <td>1.0.4.0</td>\n",
       "      <td>1.0.7.255</td>\n",
       "      <td>Australia</td>\n",
       "    </tr>\n",
       "    <tr>\n",
       "      <td>4</td>\n",
       "      <td>1.0.8.0</td>\n",
       "      <td>1.0.15.255</td>\n",
       "      <td>China</td>\n",
       "    </tr>\n",
       "  </tbody>\n",
       "</table>\n",
       "</div>"
      ],
      "text/plain": [
       "  lower_bound_ip_address upper_bound_ip_address    country\n",
       "0                1.0.0.0              1.0.0.255  Australia\n",
       "1                1.0.1.0              1.0.1.255      China\n",
       "2                1.0.2.0              1.0.3.255      China\n",
       "3                1.0.4.0              1.0.7.255  Australia\n",
       "4                1.0.8.0             1.0.15.255      China"
      ]
     },
     "execution_count": 30,
     "metadata": {},
     "output_type": "execute_result"
    }
   ],
   "source": [
    "dataset_ip_boundary.head()"
   ]
  },
  {
   "cell_type": "code",
   "execution_count": null,
   "metadata": {},
   "outputs": [],
   "source": []
  },
  {
   "cell_type": "code",
   "execution_count": 31,
   "metadata": {},
   "outputs": [],
   "source": [
    "dm = dataset_ip_boundary.copy()"
   ]
  },
  {
   "cell_type": "code",
   "execution_count": 32,
   "metadata": {},
   "outputs": [
    {
     "data": {
      "text/html": [
       "<div>\n",
       "<style scoped>\n",
       "    .dataframe tbody tr th:only-of-type {\n",
       "        vertical-align: middle;\n",
       "    }\n",
       "\n",
       "    .dataframe tbody tr th {\n",
       "        vertical-align: top;\n",
       "    }\n",
       "\n",
       "    .dataframe thead th {\n",
       "        text-align: right;\n",
       "    }\n",
       "</style>\n",
       "<table border=\"1\" class=\"dataframe\">\n",
       "  <thead>\n",
       "    <tr style=\"text-align: right;\">\n",
       "      <th></th>\n",
       "      <th>lower_bound_ip_address</th>\n",
       "      <th>upper_bound_ip_address</th>\n",
       "      <th>country</th>\n",
       "    </tr>\n",
       "    <tr>\n",
       "      <th>lower_bound_ip_address</th>\n",
       "      <th></th>\n",
       "      <th></th>\n",
       "      <th></th>\n",
       "    </tr>\n",
       "  </thead>\n",
       "  <tbody>\n",
       "    <tr>\n",
       "      <td>1.0.0.0</td>\n",
       "      <td>1</td>\n",
       "      <td>1</td>\n",
       "      <td>1</td>\n",
       "    </tr>\n",
       "    <tr>\n",
       "      <td>1.0.1.0</td>\n",
       "      <td>1</td>\n",
       "      <td>1</td>\n",
       "      <td>1</td>\n",
       "    </tr>\n",
       "    <tr>\n",
       "      <td>1.0.128.0</td>\n",
       "      <td>1</td>\n",
       "      <td>1</td>\n",
       "      <td>1</td>\n",
       "    </tr>\n",
       "    <tr>\n",
       "      <td>1.0.16.0</td>\n",
       "      <td>1</td>\n",
       "      <td>1</td>\n",
       "      <td>1</td>\n",
       "    </tr>\n",
       "    <tr>\n",
       "      <td>1.0.2.0</td>\n",
       "      <td>1</td>\n",
       "      <td>1</td>\n",
       "      <td>1</td>\n",
       "    </tr>\n",
       "    <tr>\n",
       "      <td>...</td>\n",
       "      <td>...</td>\n",
       "      <td>...</td>\n",
       "      <td>...</td>\n",
       "    </tr>\n",
       "    <tr>\n",
       "      <td>99.198.96.0</td>\n",
       "      <td>1</td>\n",
       "      <td>1</td>\n",
       "      <td>1</td>\n",
       "    </tr>\n",
       "    <tr>\n",
       "      <td>99.199.0.0</td>\n",
       "      <td>1</td>\n",
       "      <td>1</td>\n",
       "      <td>1</td>\n",
       "    </tr>\n",
       "    <tr>\n",
       "      <td>99.200.0.0</td>\n",
       "      <td>1</td>\n",
       "      <td>1</td>\n",
       "      <td>1</td>\n",
       "    </tr>\n",
       "    <tr>\n",
       "      <td>99.208.0.0</td>\n",
       "      <td>1</td>\n",
       "      <td>1</td>\n",
       "      <td>1</td>\n",
       "    </tr>\n",
       "    <tr>\n",
       "      <td>99.224.0.0</td>\n",
       "      <td>1</td>\n",
       "      <td>1</td>\n",
       "      <td>1</td>\n",
       "    </tr>\n",
       "  </tbody>\n",
       "</table>\n",
       "<p>138846 rows × 3 columns</p>\n",
       "</div>"
      ],
      "text/plain": [
       "                        lower_bound_ip_address  upper_bound_ip_address  \\\n",
       "lower_bound_ip_address                                                   \n",
       "1.0.0.0                                      1                       1   \n",
       "1.0.1.0                                      1                       1   \n",
       "1.0.128.0                                    1                       1   \n",
       "1.0.16.0                                     1                       1   \n",
       "1.0.2.0                                      1                       1   \n",
       "...                                        ...                     ...   \n",
       "99.198.96.0                                  1                       1   \n",
       "99.199.0.0                                   1                       1   \n",
       "99.200.0.0                                   1                       1   \n",
       "99.208.0.0                                   1                       1   \n",
       "99.224.0.0                                   1                       1   \n",
       "\n",
       "                        country  \n",
       "lower_bound_ip_address           \n",
       "1.0.0.0                       1  \n",
       "1.0.1.0                       1  \n",
       "1.0.128.0                     1  \n",
       "1.0.16.0                      1  \n",
       "1.0.2.0                       1  \n",
       "...                         ...  \n",
       "99.198.96.0                   1  \n",
       "99.199.0.0                    1  \n",
       "99.200.0.0                    1  \n",
       "99.208.0.0                    1  \n",
       "99.224.0.0                    1  \n",
       "\n",
       "[138846 rows x 3 columns]"
      ]
     },
     "execution_count": 32,
     "metadata": {},
     "output_type": "execute_result"
    }
   ],
   "source": [
    "dm.groupby('lower_bound_ip_address').nunique()"
   ]
  },
  {
   "cell_type": "markdown",
   "metadata": {},
   "source": [
    "## Feature Engineering"
   ]
  },
  {
   "cell_type": "markdown",
   "metadata": {},
   "source": [
    "#### Here we have Date of Order and Merchant Registration Date as date . We can split date into Year, month, Day , week category "
   ]
  },
  {
   "cell_type": "code",
   "execution_count": 33,
   "metadata": {},
   "outputs": [],
   "source": [
    "dataset_merchant_order_fraud[\"hr\"] = dataset_merchant_order_fraud[\"Date_of_Order\"].dt.hour\n",
    "dataset_merchant_order_fraud[\"weekday\"] = dataset_merchant_order_fraud[\"Date_of_Order\"].dt.weekday\n",
    "dataset_merchant_order_fraud[\"dayofyear\"] = dataset_merchant_order_fraud[\"Date_of_Order\"].dt.dayofyear\n",
    "dataset_merchant_order_fraud[\"month\"] = dataset_merchant_order_fraud[\"Date_of_Order\"].dt.month\n",
    "dataset_merchant_order_fraud[\"year\"] = dataset_merchant_order_fraud[\"Date_of_Order\"].dt.year"
   ]
  },
  {
   "cell_type": "code",
   "execution_count": 34,
   "metadata": {},
   "outputs": [],
   "source": [
    "dataset_merchant_order_fraud[\"hr_merchant\"] = dataset_merchant_order_fraud[\"Merchant_Registration_Date\"].dt.hour\n",
    "dataset_merchant_order_fraud[\"weekday_merchant\"] = dataset_merchant_order_fraud[\"Merchant_Registration_Date\"].dt.weekday\n",
    "dataset_merchant_order_fraud[\"dayofyear_merchant\"] = dataset_merchant_order_fraud[\"Merchant_Registration_Date\"].dt.dayofyear\n",
    "dataset_merchant_order_fraud[\"month_merchant\"] = dataset_merchant_order_fraud[\"Merchant_Registration_Date\"].dt.month\n",
    "dataset_merchant_order_fraud[\"year_merchant\"] = dataset_merchant_order_fraud[\"Merchant_Registration_Date\"].dt.year"
   ]
  },
  {
   "cell_type": "code",
   "execution_count": 35,
   "metadata": {},
   "outputs": [
    {
     "data": {
      "text/html": [
       "<div>\n",
       "<style scoped>\n",
       "    .dataframe tbody tr th:only-of-type {\n",
       "        vertical-align: middle;\n",
       "    }\n",
       "\n",
       "    .dataframe tbody tr th {\n",
       "        vertical-align: top;\n",
       "    }\n",
       "\n",
       "    .dataframe thead th {\n",
       "        text-align: right;\n",
       "    }\n",
       "</style>\n",
       "<table border=\"1\" class=\"dataframe\">\n",
       "  <thead>\n",
       "    <tr style=\"text-align: right;\">\n",
       "      <th></th>\n",
       "      <th>Merchant_ID</th>\n",
       "      <th>Merchant_Registration_Date</th>\n",
       "      <th>Registered_Device_ID</th>\n",
       "      <th>Gender</th>\n",
       "      <th>Age</th>\n",
       "      <th>IP_Address</th>\n",
       "      <th>Customer_ID</th>\n",
       "      <th>Order_ID</th>\n",
       "      <th>Date_of_Order</th>\n",
       "      <th>Order_Value_USD</th>\n",
       "      <th>...</th>\n",
       "      <th>hr</th>\n",
       "      <th>weekday</th>\n",
       "      <th>dayofyear</th>\n",
       "      <th>month</th>\n",
       "      <th>year</th>\n",
       "      <th>hr_merchant</th>\n",
       "      <th>weekday_merchant</th>\n",
       "      <th>dayofyear_merchant</th>\n",
       "      <th>month_merchant</th>\n",
       "      <th>year_merchant</th>\n",
       "    </tr>\n",
       "  </thead>\n",
       "  <tbody>\n",
       "    <tr>\n",
       "      <td>0</td>\n",
       "      <td>50448</td>\n",
       "      <td>2018-05-01 21:15:11</td>\n",
       "      <td>VATQMMZTVOZUT</td>\n",
       "      <td>F</td>\n",
       "      <td>39</td>\n",
       "      <td>48.151.136.76</td>\n",
       "      <td>129697</td>\n",
       "      <td>3b8983a83c7b</td>\n",
       "      <td>2018-07-30 10:59:13</td>\n",
       "      <td>90</td>\n",
       "      <td>...</td>\n",
       "      <td>10</td>\n",
       "      <td>0</td>\n",
       "      <td>211</td>\n",
       "      <td>7</td>\n",
       "      <td>2018</td>\n",
       "      <td>21</td>\n",
       "      <td>1</td>\n",
       "      <td>121</td>\n",
       "      <td>5</td>\n",
       "      <td>2018</td>\n",
       "    </tr>\n",
       "    <tr>\n",
       "      <td>1</td>\n",
       "      <td>338754</td>\n",
       "      <td>2018-04-14 10:13:00</td>\n",
       "      <td>LJCILLBRQZNKS</td>\n",
       "      <td>M</td>\n",
       "      <td>35</td>\n",
       "      <td>94.9.145.169</td>\n",
       "      <td>117390</td>\n",
       "      <td>34b5eb921228</td>\n",
       "      <td>2018-06-15 11:19:47</td>\n",
       "      <td>98</td>\n",
       "      <td>...</td>\n",
       "      <td>11</td>\n",
       "      <td>4</td>\n",
       "      <td>166</td>\n",
       "      <td>6</td>\n",
       "      <td>2018</td>\n",
       "      <td>10</td>\n",
       "      <td>5</td>\n",
       "      <td>104</td>\n",
       "      <td>4</td>\n",
       "      <td>2018</td>\n",
       "    </tr>\n",
       "    <tr>\n",
       "      <td>2</td>\n",
       "      <td>291127</td>\n",
       "      <td>2018-06-20 07:44:22</td>\n",
       "      <td>JFVHSUGKDAYZV</td>\n",
       "      <td>F</td>\n",
       "      <td>40</td>\n",
       "      <td>58.94.157.121</td>\n",
       "      <td>120162</td>\n",
       "      <td>41a1c86ff08b</td>\n",
       "      <td>2018-08-13 10:06:26</td>\n",
       "      <td>95</td>\n",
       "      <td>...</td>\n",
       "      <td>10</td>\n",
       "      <td>0</td>\n",
       "      <td>225</td>\n",
       "      <td>8</td>\n",
       "      <td>2018</td>\n",
       "      <td>7</td>\n",
       "      <td>2</td>\n",
       "      <td>171</td>\n",
       "      <td>6</td>\n",
       "      <td>2018</td>\n",
       "    </tr>\n",
       "    <tr>\n",
       "      <td>3</td>\n",
       "      <td>319919</td>\n",
       "      <td>2018-06-27 01:41:39</td>\n",
       "      <td>WFRXMPLQYXRMY</td>\n",
       "      <td>M</td>\n",
       "      <td>37</td>\n",
       "      <td>193.187.41.186</td>\n",
       "      <td>128228</td>\n",
       "      <td>e8c3ad80d916</td>\n",
       "      <td>2018-07-22 15:46:51</td>\n",
       "      <td>100</td>\n",
       "      <td>...</td>\n",
       "      <td>15</td>\n",
       "      <td>6</td>\n",
       "      <td>203</td>\n",
       "      <td>7</td>\n",
       "      <td>2018</td>\n",
       "      <td>1</td>\n",
       "      <td>2</td>\n",
       "      <td>178</td>\n",
       "      <td>6</td>\n",
       "      <td>2018</td>\n",
       "    </tr>\n",
       "    <tr>\n",
       "      <td>4</td>\n",
       "      <td>195911</td>\n",
       "      <td>2018-01-05 00:55:41</td>\n",
       "      <td>GGHKWMSWHCMID</td>\n",
       "      <td>F</td>\n",
       "      <td>27</td>\n",
       "      <td>125.96.20.172</td>\n",
       "      <td>136029</td>\n",
       "      <td>e71ab1f26785</td>\n",
       "      <td>2018-04-16 08:02:44</td>\n",
       "      <td>78</td>\n",
       "      <td>...</td>\n",
       "      <td>8</td>\n",
       "      <td>0</td>\n",
       "      <td>106</td>\n",
       "      <td>4</td>\n",
       "      <td>2018</td>\n",
       "      <td>0</td>\n",
       "      <td>4</td>\n",
       "      <td>5</td>\n",
       "      <td>1</td>\n",
       "      <td>2018</td>\n",
       "    </tr>\n",
       "  </tbody>\n",
       "</table>\n",
       "<p>5 rows × 23 columns</p>\n",
       "</div>"
      ],
      "text/plain": [
       "   Merchant_ID Merchant_Registration_Date Registered_Device_ID Gender  Age  \\\n",
       "0        50448        2018-05-01 21:15:11        VATQMMZTVOZUT      F   39   \n",
       "1       338754        2018-04-14 10:13:00        LJCILLBRQZNKS      M   35   \n",
       "2       291127        2018-06-20 07:44:22        JFVHSUGKDAYZV      F   40   \n",
       "3       319919        2018-06-27 01:41:39        WFRXMPLQYXRMY      M   37   \n",
       "4       195911        2018-01-05 00:55:41        GGHKWMSWHCMID      F   27   \n",
       "\n",
       "       IP_Address  Customer_ID      Order_ID       Date_of_Order  \\\n",
       "0   48.151.136.76       129697  3b8983a83c7b 2018-07-30 10:59:13   \n",
       "1    94.9.145.169       117390  34b5eb921228 2018-06-15 11:19:47   \n",
       "2   58.94.157.121       120162  41a1c86ff08b 2018-08-13 10:06:26   \n",
       "3  193.187.41.186       128228  e8c3ad80d916 2018-07-22 15:46:51   \n",
       "4   125.96.20.172       136029  e71ab1f26785 2018-04-16 08:02:44   \n",
       "\n",
       "   Order_Value_USD  ...  hr weekday  dayofyear  month  year  hr_merchant  \\\n",
       "0               90  ...  10       0        211      7  2018           21   \n",
       "1               98  ...  11       4        166      6  2018           10   \n",
       "2               95  ...  10       0        225      8  2018            7   \n",
       "3              100  ...  15       6        203      7  2018            1   \n",
       "4               78  ...   8       0        106      4  2018            0   \n",
       "\n",
       "   weekday_merchant  dayofyear_merchant  month_merchant  year_merchant  \n",
       "0                 1                 121               5           2018  \n",
       "1                 5                 104               4           2018  \n",
       "2                 2                 171               6           2018  \n",
       "3                 2                 178               6           2018  \n",
       "4                 4                   5               1           2018  \n",
       "\n",
       "[5 rows x 23 columns]"
      ]
     },
     "execution_count": 35,
     "metadata": {},
     "output_type": "execute_result"
    }
   ],
   "source": [
    "dataset_merchant_order_fraud.head()"
   ]
  },
  {
   "cell_type": "markdown",
   "metadata": {},
   "source": [
    "### Assigning country based on IP Address"
   ]
  },
  {
   "cell_type": "code",
   "execution_count": 36,
   "metadata": {},
   "outputs": [
    {
     "data": {
      "text/plain": [
       "'/Users/indrajitv/Desktop/hackathon'"
      ]
     },
     "execution_count": 36,
     "metadata": {},
     "output_type": "execute_result"
    }
   ],
   "source": [
    "os.getcwd()"
   ]
  },
  {
   "cell_type": "code",
   "execution_count": 37,
   "metadata": {},
   "outputs": [],
   "source": [
    "# ip_data=data[\"IP_Address\"]\n",
    "# k=[]\n",
    "# for i in range(len(ip_data)):\n",
    "#     ip=ip_data[i]\n",
    "#     tmp=ip_diff[(ip_diff['lower_bound_ip_address']<=ip) & (ip_diff['upper_bound_ip_address']>=ip)]\n",
    "#     tmp=tmp['country'].tolist()\n",
    "#     k.append(tmp)\n",
    "# data['country']=k"
   ]
  },
  {
   "cell_type": "code",
   "execution_count": 38,
   "metadata": {},
   "outputs": [],
   "source": [
    "country_data = pd.read_csv(\"best_data.csv\")"
   ]
  },
  {
   "cell_type": "code",
   "execution_count": 39,
   "metadata": {},
   "outputs": [
    {
     "data": {
      "text/plain": [
       "United States     16841\n",
       "unknown           15113\n",
       "China              4022\n",
       "Japan              2883\n",
       "United Kingdom     1603\n",
       "                  ...  \n",
       "Ghana                 1\n",
       "Greenland             1\n",
       "Guam                  1\n",
       "Iraq                  1\n",
       "Mauritius             1\n",
       "Name: country, Length: 128, dtype: int64"
      ]
     },
     "execution_count": 39,
     "metadata": {},
     "output_type": "execute_result"
    }
   ],
   "source": [
    "country_data[\"country\"].value_counts()"
   ]
  },
  {
   "cell_type": "code",
   "execution_count": 40,
   "metadata": {},
   "outputs": [],
   "source": [
    "country = pd.DataFrame()"
   ]
  },
  {
   "cell_type": "code",
   "execution_count": 41,
   "metadata": {},
   "outputs": [],
   "source": [
    "country[\"country\"] = country_data['country']"
   ]
  },
  {
   "cell_type": "code",
   "execution_count": 42,
   "metadata": {},
   "outputs": [
    {
     "data": {
      "text/plain": [
       "0         United States\n",
       "1                 Italy\n",
       "2                 Japan\n",
       "3               Germany\n",
       "4                 China\n",
       "              ...      \n",
       "54208           unknown\n",
       "54209    United Kingdom\n",
       "54210    United Kingdom\n",
       "54211             China\n",
       "54212          Thailand\n",
       "Name: country, Length: 54213, dtype: object"
      ]
     },
     "execution_count": 42,
     "metadata": {},
     "output_type": "execute_result"
    }
   ],
   "source": [
    "country_data[\"country\"]"
   ]
  },
  {
   "cell_type": "code",
   "execution_count": 43,
   "metadata": {},
   "outputs": [
    {
     "data": {
      "text/plain": [
       "0"
      ]
     },
     "execution_count": 43,
     "metadata": {},
     "output_type": "execute_result"
    }
   ],
   "source": [
    "country[\"country\"].isnull().sum()"
   ]
  },
  {
   "cell_type": "code",
   "execution_count": null,
   "metadata": {},
   "outputs": [],
   "source": []
  },
  {
   "cell_type": "code",
   "execution_count": null,
   "metadata": {},
   "outputs": [],
   "source": []
  },
  {
   "cell_type": "code",
   "execution_count": null,
   "metadata": {},
   "outputs": [],
   "source": []
  },
  {
   "cell_type": "code",
   "execution_count": null,
   "metadata": {},
   "outputs": [],
   "source": []
  },
  {
   "cell_type": "code",
   "execution_count": null,
   "metadata": {},
   "outputs": [],
   "source": []
  },
  {
   "cell_type": "markdown",
   "metadata": {},
   "source": [
    "### Visualization"
   ]
  },
  {
   "cell_type": "code",
   "execution_count": 43,
   "metadata": {},
   "outputs": [],
   "source": [
    "import seaborn as sns\n"
   ]
  },
  {
   "cell_type": "code",
   "execution_count": 45,
   "metadata": {},
   "outputs": [],
   "source": [
    "values = dataset_merchant_order_fraud.drop(['Merchant_Registration_Date', 'Date_of_Order'], axis = 1)"
   ]
  },
  {
   "cell_type": "code",
   "execution_count": 48,
   "metadata": {},
   "outputs": [],
   "source": [
    "sns.pairplot(values, hue = 'Fraudster')"
   ]
  },
  {
   "cell_type": "markdown",
   "metadata": {},
   "source": [
    "### From the graphs shown above , we can see that the blue datapoints are overlapping the orange datapoints. This means that simple Logistic Regression line won't be the best model to seperate fraud from non-fraud. Hence we use  Decision Trees , SVM, Gradient Boost to test the model"
   ]
  },
  {
   "cell_type": "code",
   "execution_count": 258,
   "metadata": {},
   "outputs": [
    {
     "data": {
      "image/png": "[encoded data removed]",
      "text/plain": [
       "<Figure size 1440x720 with 2 Axes>"
      ]
     },
     "metadata": {
      "needs_background": "light"
     },
     "output_type": "display_data"
    }
   ],
   "source": [
    "plt.figure(figsize=(20,10))\n",
    "cor = dataset_merchant_order_fraud.corr()\n",
    "sns.heatmap(cor, annot=True, cmap=plt.cm.Reds)\n",
    "plt.show()"
   ]
  },
  {
   "cell_type": "markdown",
   "metadata": {},
   "source": [
    "### Day of the year merchant and Day of the year orders are highly correlated"
   ]
  },
  {
   "cell_type": "code",
   "execution_count": null,
   "metadata": {},
   "outputs": [],
   "source": []
  },
  {
   "cell_type": "markdown",
   "metadata": {},
   "source": [
    "#### Merging country with dataframe"
   ]
  },
  {
   "cell_type": "code",
   "execution_count": null,
   "metadata": {},
   "outputs": [],
   "source": []
  },
  {
   "cell_type": "code",
   "execution_count": 44,
   "metadata": {},
   "outputs": [],
   "source": [
    "dataset_merchant_order_fraud = pd.concat([dataset_merchant_order_fraud, country], axis = 1)"
   ]
  },
  {
   "cell_type": "code",
   "execution_count": 45,
   "metadata": {},
   "outputs": [
    {
     "data": {
      "text/html": [
       "<div>\n",
       "<style scoped>\n",
       "    .dataframe tbody tr th:only-of-type {\n",
       "        vertical-align: middle;\n",
       "    }\n",
       "\n",
       "    .dataframe tbody tr th {\n",
       "        vertical-align: top;\n",
       "    }\n",
       "\n",
       "    .dataframe thead th {\n",
       "        text-align: right;\n",
       "    }\n",
       "</style>\n",
       "<table border=\"1\" class=\"dataframe\">\n",
       "  <thead>\n",
       "    <tr style=\"text-align: right;\">\n",
       "      <th></th>\n",
       "      <th>Merchant_ID</th>\n",
       "      <th>Merchant_Registration_Date</th>\n",
       "      <th>Registered_Device_ID</th>\n",
       "      <th>Gender</th>\n",
       "      <th>Age</th>\n",
       "      <th>IP_Address</th>\n",
       "      <th>Customer_ID</th>\n",
       "      <th>Order_ID</th>\n",
       "      <th>Date_of_Order</th>\n",
       "      <th>Order_Value_USD</th>\n",
       "      <th>...</th>\n",
       "      <th>weekday</th>\n",
       "      <th>dayofyear</th>\n",
       "      <th>month</th>\n",
       "      <th>year</th>\n",
       "      <th>hr_merchant</th>\n",
       "      <th>weekday_merchant</th>\n",
       "      <th>dayofyear_merchant</th>\n",
       "      <th>month_merchant</th>\n",
       "      <th>year_merchant</th>\n",
       "      <th>country</th>\n",
       "    </tr>\n",
       "  </thead>\n",
       "  <tbody>\n",
       "    <tr>\n",
       "      <td>0</td>\n",
       "      <td>50448</td>\n",
       "      <td>2018-05-01 21:15:11</td>\n",
       "      <td>VATQMMZTVOZUT</td>\n",
       "      <td>F</td>\n",
       "      <td>39</td>\n",
       "      <td>48.151.136.76</td>\n",
       "      <td>129697</td>\n",
       "      <td>3b8983a83c7b</td>\n",
       "      <td>2018-07-30 10:59:13</td>\n",
       "      <td>90</td>\n",
       "      <td>...</td>\n",
       "      <td>0</td>\n",
       "      <td>211</td>\n",
       "      <td>7</td>\n",
       "      <td>2018</td>\n",
       "      <td>21</td>\n",
       "      <td>1</td>\n",
       "      <td>121</td>\n",
       "      <td>5</td>\n",
       "      <td>2018</td>\n",
       "      <td>United States</td>\n",
       "    </tr>\n",
       "    <tr>\n",
       "      <td>1</td>\n",
       "      <td>338754</td>\n",
       "      <td>2018-04-14 10:13:00</td>\n",
       "      <td>LJCILLBRQZNKS</td>\n",
       "      <td>M</td>\n",
       "      <td>35</td>\n",
       "      <td>94.9.145.169</td>\n",
       "      <td>117390</td>\n",
       "      <td>34b5eb921228</td>\n",
       "      <td>2018-06-15 11:19:47</td>\n",
       "      <td>98</td>\n",
       "      <td>...</td>\n",
       "      <td>4</td>\n",
       "      <td>166</td>\n",
       "      <td>6</td>\n",
       "      <td>2018</td>\n",
       "      <td>10</td>\n",
       "      <td>5</td>\n",
       "      <td>104</td>\n",
       "      <td>4</td>\n",
       "      <td>2018</td>\n",
       "      <td>Italy</td>\n",
       "    </tr>\n",
       "    <tr>\n",
       "      <td>2</td>\n",
       "      <td>291127</td>\n",
       "      <td>2018-06-20 07:44:22</td>\n",
       "      <td>JFVHSUGKDAYZV</td>\n",
       "      <td>F</td>\n",
       "      <td>40</td>\n",
       "      <td>58.94.157.121</td>\n",
       "      <td>120162</td>\n",
       "      <td>41a1c86ff08b</td>\n",
       "      <td>2018-08-13 10:06:26</td>\n",
       "      <td>95</td>\n",
       "      <td>...</td>\n",
       "      <td>0</td>\n",
       "      <td>225</td>\n",
       "      <td>8</td>\n",
       "      <td>2018</td>\n",
       "      <td>7</td>\n",
       "      <td>2</td>\n",
       "      <td>171</td>\n",
       "      <td>6</td>\n",
       "      <td>2018</td>\n",
       "      <td>Japan</td>\n",
       "    </tr>\n",
       "    <tr>\n",
       "      <td>3</td>\n",
       "      <td>319919</td>\n",
       "      <td>2018-06-27 01:41:39</td>\n",
       "      <td>WFRXMPLQYXRMY</td>\n",
       "      <td>M</td>\n",
       "      <td>37</td>\n",
       "      <td>193.187.41.186</td>\n",
       "      <td>128228</td>\n",
       "      <td>e8c3ad80d916</td>\n",
       "      <td>2018-07-22 15:46:51</td>\n",
       "      <td>100</td>\n",
       "      <td>...</td>\n",
       "      <td>6</td>\n",
       "      <td>203</td>\n",
       "      <td>7</td>\n",
       "      <td>2018</td>\n",
       "      <td>1</td>\n",
       "      <td>2</td>\n",
       "      <td>178</td>\n",
       "      <td>6</td>\n",
       "      <td>2018</td>\n",
       "      <td>Germany</td>\n",
       "    </tr>\n",
       "    <tr>\n",
       "      <td>4</td>\n",
       "      <td>195911</td>\n",
       "      <td>2018-01-05 00:55:41</td>\n",
       "      <td>GGHKWMSWHCMID</td>\n",
       "      <td>F</td>\n",
       "      <td>27</td>\n",
       "      <td>125.96.20.172</td>\n",
       "      <td>136029</td>\n",
       "      <td>e71ab1f26785</td>\n",
       "      <td>2018-04-16 08:02:44</td>\n",
       "      <td>78</td>\n",
       "      <td>...</td>\n",
       "      <td>0</td>\n",
       "      <td>106</td>\n",
       "      <td>4</td>\n",
       "      <td>2018</td>\n",
       "      <td>0</td>\n",
       "      <td>4</td>\n",
       "      <td>5</td>\n",
       "      <td>1</td>\n",
       "      <td>2018</td>\n",
       "      <td>China</td>\n",
       "    </tr>\n",
       "  </tbody>\n",
       "</table>\n",
       "<p>5 rows × 24 columns</p>\n",
       "</div>"
      ],
      "text/plain": [
       "   Merchant_ID Merchant_Registration_Date Registered_Device_ID Gender  Age  \\\n",
       "0        50448        2018-05-01 21:15:11        VATQMMZTVOZUT      F   39   \n",
       "1       338754        2018-04-14 10:13:00        LJCILLBRQZNKS      M   35   \n",
       "2       291127        2018-06-20 07:44:22        JFVHSUGKDAYZV      F   40   \n",
       "3       319919        2018-06-27 01:41:39        WFRXMPLQYXRMY      M   37   \n",
       "4       195911        2018-01-05 00:55:41        GGHKWMSWHCMID      F   27   \n",
       "\n",
       "       IP_Address  Customer_ID      Order_ID       Date_of_Order  \\\n",
       "0   48.151.136.76       129697  3b8983a83c7b 2018-07-30 10:59:13   \n",
       "1    94.9.145.169       117390  34b5eb921228 2018-06-15 11:19:47   \n",
       "2   58.94.157.121       120162  41a1c86ff08b 2018-08-13 10:06:26   \n",
       "3  193.187.41.186       128228  e8c3ad80d916 2018-07-22 15:46:51   \n",
       "4   125.96.20.172       136029  e71ab1f26785 2018-04-16 08:02:44   \n",
       "\n",
       "   Order_Value_USD  ... weekday dayofyear  month  year  hr_merchant  \\\n",
       "0               90  ...       0       211      7  2018           21   \n",
       "1               98  ...       4       166      6  2018           10   \n",
       "2               95  ...       0       225      8  2018            7   \n",
       "3              100  ...       6       203      7  2018            1   \n",
       "4               78  ...       0       106      4  2018            0   \n",
       "\n",
       "   weekday_merchant  dayofyear_merchant  month_merchant  year_merchant  \\\n",
       "0                 1                 121               5           2018   \n",
       "1                 5                 104               4           2018   \n",
       "2                 2                 171               6           2018   \n",
       "3                 2                 178               6           2018   \n",
       "4                 4                   5               1           2018   \n",
       "\n",
       "         country  \n",
       "0  United States  \n",
       "1          Italy  \n",
       "2          Japan  \n",
       "3        Germany  \n",
       "4          China  \n",
       "\n",
       "[5 rows x 24 columns]"
      ]
     },
     "execution_count": 45,
     "metadata": {},
     "output_type": "execute_result"
    }
   ],
   "source": [
    "dataset_merchant_order_fraud.head()"
   ]
  },
  {
   "cell_type": "code",
   "execution_count": 46,
   "metadata": {},
   "outputs": [],
   "source": [
    "# dataset_merchant_order_fraud.dtypes"
   ]
  },
  {
   "cell_type": "code",
   "execution_count": 47,
   "metadata": {},
   "outputs": [
    {
     "data": {
      "text/plain": [
       "United States     16841\n",
       "unknown           15113\n",
       "China              4022\n",
       "Japan              2883\n",
       "United Kingdom     1603\n",
       "                  ...  \n",
       "Ghana                 1\n",
       "Greenland             1\n",
       "Guam                  1\n",
       "Iraq                  1\n",
       "Mauritius             1\n",
       "Name: country, Length: 128, dtype: int64"
      ]
     },
     "execution_count": 47,
     "metadata": {},
     "output_type": "execute_result"
    }
   ],
   "source": [
    "dataset_merchant_order_fraud[\"country\"].value_counts()"
   ]
  },
  {
   "cell_type": "code",
   "execution_count": 48,
   "metadata": {},
   "outputs": [],
   "source": [
    "dataset_merchant_order_fraud[\"country\"] = dataset_merchant_order_fraud[\"country\"].astype(\"category\")"
   ]
  },
  {
   "cell_type": "code",
   "execution_count": 47,
   "metadata": {},
   "outputs": [
    {
     "data": {
      "text/plain": [
       "Merchant_ID                            int64\n",
       "Merchant_Registration_Date    datetime64[ns]\n",
       "Registered_Device_ID                  object\n",
       "Gender                                object\n",
       "Age                                    int64\n",
       "IP_Address                            object\n",
       "Customer_ID                            int64\n",
       "Order_ID                              object\n",
       "Date_of_Order                 datetime64[ns]\n",
       "Order_Value_USD                        int64\n",
       "Order_Source                          object\n",
       "Order_Payment_Method                  object\n",
       "Fraudster                              int64\n",
       "hr                                     int64\n",
       "weekday                                int64\n",
       "dayofyear                              int64\n",
       "month                                  int64\n",
       "year                                   int64\n",
       "hr_merchant                            int64\n",
       "weekday_merchant                       int64\n",
       "dayofyear_merchant                     int64\n",
       "month_merchant                         int64\n",
       "year_merchant                          int64\n",
       "country                             category\n",
       "dtype: object"
      ]
     },
     "execution_count": 47,
     "metadata": {},
     "output_type": "execute_result"
    }
   ],
   "source": [
    "dataset_merchant_order_fraud.dtypes"
   ]
  },
  {
   "cell_type": "code",
   "execution_count": 49,
   "metadata": {},
   "outputs": [],
   "source": [
    "dataset = dataset_merchant_order_fraud.copy()"
   ]
  },
  {
   "cell_type": "code",
   "execution_count": 50,
   "metadata": {},
   "outputs": [
    {
     "data": {
      "text/plain": [
       "Credit Card         21844\n",
       "Internet Banking    13193\n",
       "Debit Card           9070\n",
       "E-wallet             8739\n",
       "Cash On Delivery     1367\n",
       "Name: Order_Payment_Method, dtype: int64"
      ]
     },
     "execution_count": 50,
     "metadata": {},
     "output_type": "execute_result"
    }
   ],
   "source": [
    "dataset_merchant_order_fraud.Order_Payment_Method.value_counts()"
   ]
  },
  {
   "cell_type": "code",
   "execution_count": 51,
   "metadata": {},
   "outputs": [
    {
     "data": {
      "text/html": [
       "<div>\n",
       "<style scoped>\n",
       "    .dataframe tbody tr th:only-of-type {\n",
       "        vertical-align: middle;\n",
       "    }\n",
       "\n",
       "    .dataframe tbody tr th {\n",
       "        vertical-align: top;\n",
       "    }\n",
       "\n",
       "    .dataframe thead th {\n",
       "        text-align: right;\n",
       "    }\n",
       "</style>\n",
       "<table border=\"1\" class=\"dataframe\">\n",
       "  <thead>\n",
       "    <tr style=\"text-align: right;\">\n",
       "      <th></th>\n",
       "      <th>Merchant_ID</th>\n",
       "      <th>Merchant_Registration_Date</th>\n",
       "      <th>Registered_Device_ID</th>\n",
       "      <th>Gender</th>\n",
       "      <th>Age</th>\n",
       "      <th>IP_Address</th>\n",
       "      <th>Customer_ID</th>\n",
       "      <th>Order_ID</th>\n",
       "      <th>Date_of_Order</th>\n",
       "      <th>Order_Value_USD</th>\n",
       "      <th>...</th>\n",
       "      <th>weekday</th>\n",
       "      <th>dayofyear</th>\n",
       "      <th>month</th>\n",
       "      <th>year</th>\n",
       "      <th>hr_merchant</th>\n",
       "      <th>weekday_merchant</th>\n",
       "      <th>dayofyear_merchant</th>\n",
       "      <th>month_merchant</th>\n",
       "      <th>year_merchant</th>\n",
       "      <th>country</th>\n",
       "    </tr>\n",
       "  </thead>\n",
       "  <tbody>\n",
       "    <tr>\n",
       "      <td>0</td>\n",
       "      <td>50448</td>\n",
       "      <td>2018-05-01 21:15:11</td>\n",
       "      <td>VATQMMZTVOZUT</td>\n",
       "      <td>F</td>\n",
       "      <td>39</td>\n",
       "      <td>48.151.136.76</td>\n",
       "      <td>129697</td>\n",
       "      <td>3b8983a83c7b</td>\n",
       "      <td>2018-07-30 10:59:13</td>\n",
       "      <td>90</td>\n",
       "      <td>...</td>\n",
       "      <td>0</td>\n",
       "      <td>211</td>\n",
       "      <td>7</td>\n",
       "      <td>2018</td>\n",
       "      <td>21</td>\n",
       "      <td>1</td>\n",
       "      <td>121</td>\n",
       "      <td>5</td>\n",
       "      <td>2018</td>\n",
       "      <td>United States</td>\n",
       "    </tr>\n",
       "    <tr>\n",
       "      <td>1</td>\n",
       "      <td>338754</td>\n",
       "      <td>2018-04-14 10:13:00</td>\n",
       "      <td>LJCILLBRQZNKS</td>\n",
       "      <td>M</td>\n",
       "      <td>35</td>\n",
       "      <td>94.9.145.169</td>\n",
       "      <td>117390</td>\n",
       "      <td>34b5eb921228</td>\n",
       "      <td>2018-06-15 11:19:47</td>\n",
       "      <td>98</td>\n",
       "      <td>...</td>\n",
       "      <td>4</td>\n",
       "      <td>166</td>\n",
       "      <td>6</td>\n",
       "      <td>2018</td>\n",
       "      <td>10</td>\n",
       "      <td>5</td>\n",
       "      <td>104</td>\n",
       "      <td>4</td>\n",
       "      <td>2018</td>\n",
       "      <td>Italy</td>\n",
       "    </tr>\n",
       "    <tr>\n",
       "      <td>2</td>\n",
       "      <td>291127</td>\n",
       "      <td>2018-06-20 07:44:22</td>\n",
       "      <td>JFVHSUGKDAYZV</td>\n",
       "      <td>F</td>\n",
       "      <td>40</td>\n",
       "      <td>58.94.157.121</td>\n",
       "      <td>120162</td>\n",
       "      <td>41a1c86ff08b</td>\n",
       "      <td>2018-08-13 10:06:26</td>\n",
       "      <td>95</td>\n",
       "      <td>...</td>\n",
       "      <td>0</td>\n",
       "      <td>225</td>\n",
       "      <td>8</td>\n",
       "      <td>2018</td>\n",
       "      <td>7</td>\n",
       "      <td>2</td>\n",
       "      <td>171</td>\n",
       "      <td>6</td>\n",
       "      <td>2018</td>\n",
       "      <td>Japan</td>\n",
       "    </tr>\n",
       "    <tr>\n",
       "      <td>3</td>\n",
       "      <td>319919</td>\n",
       "      <td>2018-06-27 01:41:39</td>\n",
       "      <td>WFRXMPLQYXRMY</td>\n",
       "      <td>M</td>\n",
       "      <td>37</td>\n",
       "      <td>193.187.41.186</td>\n",
       "      <td>128228</td>\n",
       "      <td>e8c3ad80d916</td>\n",
       "      <td>2018-07-22 15:46:51</td>\n",
       "      <td>100</td>\n",
       "      <td>...</td>\n",
       "      <td>6</td>\n",
       "      <td>203</td>\n",
       "      <td>7</td>\n",
       "      <td>2018</td>\n",
       "      <td>1</td>\n",
       "      <td>2</td>\n",
       "      <td>178</td>\n",
       "      <td>6</td>\n",
       "      <td>2018</td>\n",
       "      <td>Germany</td>\n",
       "    </tr>\n",
       "    <tr>\n",
       "      <td>4</td>\n",
       "      <td>195911</td>\n",
       "      <td>2018-01-05 00:55:41</td>\n",
       "      <td>GGHKWMSWHCMID</td>\n",
       "      <td>F</td>\n",
       "      <td>27</td>\n",
       "      <td>125.96.20.172</td>\n",
       "      <td>136029</td>\n",
       "      <td>e71ab1f26785</td>\n",
       "      <td>2018-04-16 08:02:44</td>\n",
       "      <td>78</td>\n",
       "      <td>...</td>\n",
       "      <td>0</td>\n",
       "      <td>106</td>\n",
       "      <td>4</td>\n",
       "      <td>2018</td>\n",
       "      <td>0</td>\n",
       "      <td>4</td>\n",
       "      <td>5</td>\n",
       "      <td>1</td>\n",
       "      <td>2018</td>\n",
       "      <td>China</td>\n",
       "    </tr>\n",
       "  </tbody>\n",
       "</table>\n",
       "<p>5 rows × 24 columns</p>\n",
       "</div>"
      ],
      "text/plain": [
       "   Merchant_ID Merchant_Registration_Date Registered_Device_ID Gender  Age  \\\n",
       "0        50448        2018-05-01 21:15:11        VATQMMZTVOZUT      F   39   \n",
       "1       338754        2018-04-14 10:13:00        LJCILLBRQZNKS      M   35   \n",
       "2       291127        2018-06-20 07:44:22        JFVHSUGKDAYZV      F   40   \n",
       "3       319919        2018-06-27 01:41:39        WFRXMPLQYXRMY      M   37   \n",
       "4       195911        2018-01-05 00:55:41        GGHKWMSWHCMID      F   27   \n",
       "\n",
       "       IP_Address  Customer_ID      Order_ID       Date_of_Order  \\\n",
       "0   48.151.136.76       129697  3b8983a83c7b 2018-07-30 10:59:13   \n",
       "1    94.9.145.169       117390  34b5eb921228 2018-06-15 11:19:47   \n",
       "2   58.94.157.121       120162  41a1c86ff08b 2018-08-13 10:06:26   \n",
       "3  193.187.41.186       128228  e8c3ad80d916 2018-07-22 15:46:51   \n",
       "4   125.96.20.172       136029  e71ab1f26785 2018-04-16 08:02:44   \n",
       "\n",
       "   Order_Value_USD  ... weekday dayofyear  month  year  hr_merchant  \\\n",
       "0               90  ...       0       211      7  2018           21   \n",
       "1               98  ...       4       166      6  2018           10   \n",
       "2               95  ...       0       225      8  2018            7   \n",
       "3              100  ...       6       203      7  2018            1   \n",
       "4               78  ...       0       106      4  2018            0   \n",
       "\n",
       "   weekday_merchant  dayofyear_merchant  month_merchant  year_merchant  \\\n",
       "0                 1                 121               5           2018   \n",
       "1                 5                 104               4           2018   \n",
       "2                 2                 171               6           2018   \n",
       "3                 2                 178               6           2018   \n",
       "4                 4                   5               1           2018   \n",
       "\n",
       "         country  \n",
       "0  United States  \n",
       "1          Italy  \n",
       "2          Japan  \n",
       "3        Germany  \n",
       "4          China  \n",
       "\n",
       "[5 rows x 24 columns]"
      ]
     },
     "execution_count": 51,
     "metadata": {},
     "output_type": "execute_result"
    }
   ],
   "source": [
    "dataset.head()"
   ]
  },
  {
   "cell_type": "code",
   "execution_count": 52,
   "metadata": {},
   "outputs": [],
   "source": [
    "dataset['Fraudster'] = dataset['Fraudster'].astype('category')"
   ]
  },
  {
   "cell_type": "code",
   "execution_count": 52,
   "metadata": {},
   "outputs": [
    {
     "data": {
      "text/plain": [
       "Merchant_ID                            int64\n",
       "Merchant_Registration_Date    datetime64[ns]\n",
       "Registered_Device_ID                  object\n",
       "Gender                                object\n",
       "Age                                    int64\n",
       "IP_Address                            object\n",
       "Customer_ID                            int64\n",
       "Order_ID                              object\n",
       "Date_of_Order                 datetime64[ns]\n",
       "Order_Value_USD                        int64\n",
       "Order_Source                          object\n",
       "Order_Payment_Method                  object\n",
       "Fraudster                           category\n",
       "hr                                     int64\n",
       "weekday                                int64\n",
       "dayofyear                              int64\n",
       "month                                  int64\n",
       "year                                   int64\n",
       "hr_merchant                            int64\n",
       "weekday_merchant                       int64\n",
       "dayofyear_merchant                     int64\n",
       "month_merchant                         int64\n",
       "year_merchant                          int64\n",
       "country                             category\n",
       "dtype: object"
      ]
     },
     "execution_count": 52,
     "metadata": {},
     "output_type": "execute_result"
    }
   ],
   "source": [
    "dataset.dtypes"
   ]
  },
  {
   "cell_type": "code",
   "execution_count": 53,
   "metadata": {},
   "outputs": [],
   "source": [
    "cat_attr = ['Registered_Device_ID', 'Gender', 'IP_Address', 'Order_ID' ,'Order_Source', 'Order_Payment_Method', 'Fraudster', 'country']\n",
    "\n",
    "\n",
    "\n",
    "\n"
   ]
  },
  {
   "cell_type": "code",
   "execution_count": 54,
   "metadata": {},
   "outputs": [],
   "source": [
    "dataset[cat_attr] = dataset[cat_attr].astype(\"category\")"
   ]
  },
  {
   "cell_type": "code",
   "execution_count": 57,
   "metadata": {},
   "outputs": [],
   "source": [
    "num_attr = list(dataset.columns.difference(cat_attr))\n",
    "num_attr.remove('Date_of_Order')\n",
    "num_attr.remove('Merchant_Registration_Date')"
   ]
  },
  {
   "cell_type": "code",
   "execution_count": 58,
   "metadata": {},
   "outputs": [
    {
     "name": "stdout",
     "output_type": "stream",
     "text": [
      "numerical attributes are ['Age', 'Customer_ID', 'Merchant_ID', 'Order_Value_USD', 'dayofyear', 'dayofyear_merchant', 'hr', 'hr_merchant', 'month', 'month_merchant', 'weekday', 'weekday_merchant', 'year', 'year_merchant']\n",
      "categorical attributes are ['Registered_Device_ID', 'Gender', 'IP_Address', 'Order_ID', 'Order_Source', 'Order_Payment_Method', 'Fraudster', 'country']\n"
     ]
    }
   ],
   "source": [
    "print(\"numerical attributes are {}\".format(num_attr))\n",
    "print(\"categorical attributes are {}\".format(cat_attr))"
   ]
  },
  {
   "cell_type": "code",
   "execution_count": 59,
   "metadata": {},
   "outputs": [],
   "source": [
    "cat_attr.remove('Fraudster')"
   ]
  },
  {
   "cell_type": "code",
   "execution_count": 60,
   "metadata": {},
   "outputs": [
    {
     "data": {
      "text/plain": [
       "Merchant_ID                            int64\n",
       "Merchant_Registration_Date    datetime64[ns]\n",
       "Registered_Device_ID                category\n",
       "Gender                              category\n",
       "Age                                    int64\n",
       "IP_Address                          category\n",
       "Customer_ID                            int64\n",
       "Order_ID                            category\n",
       "Date_of_Order                 datetime64[ns]\n",
       "Order_Value_USD                        int64\n",
       "Order_Source                        category\n",
       "Order_Payment_Method                category\n",
       "Fraudster                           category\n",
       "hr                                     int64\n",
       "weekday                                int64\n",
       "dayofyear                              int64\n",
       "month                                  int64\n",
       "year                                   int64\n",
       "hr_merchant                            int64\n",
       "weekday_merchant                       int64\n",
       "dayofyear_merchant                     int64\n",
       "month_merchant                         int64\n",
       "year_merchant                          int64\n",
       "country                             category\n",
       "dtype: object"
      ]
     },
     "execution_count": 60,
     "metadata": {},
     "output_type": "execute_result"
    }
   ],
   "source": [
    "dataset.dtypes"
   ]
  },
  {
   "cell_type": "code",
   "execution_count": 73,
   "metadata": {},
   "outputs": [],
   "source": [
    "imp = SimpleImputer(strategy=\"most_frequent\", fill_value=\"missing_value\")\n"
   ]
  },
  {
   "cell_type": "code",
   "execution_count": 61,
   "metadata": {},
   "outputs": [
    {
     "data": {
      "text/plain": [
       "0         United States\n",
       "1                 Italy\n",
       "2                 Japan\n",
       "3               Germany\n",
       "4                 China\n",
       "              ...      \n",
       "54208           unknown\n",
       "54209    United Kingdom\n",
       "54210    United Kingdom\n",
       "54211             China\n",
       "54212          Thailand\n",
       "Name: country, Length: 54213, dtype: category\n",
       "Categories (128, object): [Afghanistan, Albania, Angola, Antigua and Barbuda, ..., Viet Nam, Yemen, Zambia, unknown]"
      ]
     },
     "execution_count": 61,
     "metadata": {},
     "output_type": "execute_result"
    }
   ],
   "source": [
    "# p = imp.fit_transform(dataset[\"country\"])\n",
    "dataset[\"country\"]"
   ]
  },
  {
   "cell_type": "code",
   "execution_count": null,
   "metadata": {},
   "outputs": [],
   "source": []
  },
  {
   "cell_type": "code",
   "execution_count": null,
   "metadata": {},
   "outputs": [],
   "source": []
  },
  {
   "cell_type": "code",
   "execution_count": null,
   "metadata": {},
   "outputs": [],
   "source": []
  },
  {
   "cell_type": "markdown",
   "metadata": {},
   "source": [
    "### Model Building"
   ]
  },
  {
   "cell_type": "code",
   "execution_count": 62,
   "metadata": {},
   "outputs": [],
   "source": [
    "X = dataset.drop(['Fraudster', 'Date_of_Order', 'Merchant_Registration_Date'], axis = 1)\n",
    "y = dataset[['Fraudster']]"
   ]
  },
  {
   "cell_type": "code",
   "execution_count": 63,
   "metadata": {},
   "outputs": [],
   "source": [
    "X_train, X_test, y_train, y_test = train_test_split(X, y, test_size=0.25, random_state=123)"
   ]
  },
  {
   "cell_type": "code",
   "execution_count": null,
   "metadata": {},
   "outputs": [],
   "source": []
  },
  {
   "cell_type": "code",
   "execution_count": 64,
   "metadata": {},
   "outputs": [],
   "source": [
    "from sklearn.pipeline import Pipeline\n",
    "from sklearn.impute import SimpleImputer\n",
    "from sklearn.preprocessing import OneHotEncoder\n",
    "from sklearn.compose import ColumnTransformer"
   ]
  },
  {
   "cell_type": "code",
   "execution_count": 65,
   "metadata": {},
   "outputs": [],
   "source": [
    "numeric_transformer = Pipeline(steps=[\n",
    "    ('imputer', SimpleImputer(strategy='median')),\n",
    "    ('scaler', StandardScaler())\n",
    "    ])\n",
    "\n",
    "categorical_transformer = Pipeline(steps=[\n",
    "    ('imputer', SimpleImputer(strategy='most_frequent',fill_value=\"missing_value\")),\n",
    "    ('onehot', OneHotEncoder(handle_unknown='ignore'))])\n",
    "\n",
    "preprocessor = ColumnTransformer(\n",
    "    transformers=[\n",
    "        ('num', numeric_transformer, num_attr),\n",
    "        ('cat', categorical_transformer, cat_attr)])"
   ]
  },
  {
   "cell_type": "markdown",
   "metadata": {},
   "source": [
    "### Logistic Regression"
   ]
  },
  {
   "cell_type": "code",
   "execution_count": 66,
   "metadata": {},
   "outputs": [],
   "source": [
    "clf_logreg = Pipeline(steps=[('preprocessor', preprocessor),\n",
    "                      ('classifier', LogisticRegression())])\n"
   ]
  },
  {
   "cell_type": "code",
   "execution_count": 67,
   "metadata": {},
   "outputs": [
    {
     "data": {
      "text/plain": [
       "Pipeline(memory=None,\n",
       "         steps=[('preprocessor',\n",
       "                 ColumnTransformer(n_jobs=None, remainder='drop',\n",
       "                                   sparse_threshold=0.3,\n",
       "                                   transformer_weights=None,\n",
       "                                   transformers=[('num',\n",
       "                                                  Pipeline(memory=None,\n",
       "                                                           steps=[('imputer',\n",
       "                                                                   SimpleImputer(add_indicator=False,\n",
       "                                                                                 copy=True,\n",
       "                                                                                 fill_value=None,\n",
       "                                                                                 missing_values=nan,\n",
       "                                                                                 strategy='median',\n",
       "                                                                                 verbose=0)),\n",
       "                                                                  ('scaler',\n",
       "                                                                   StandardScaler(copy=True,\n",
       "                                                                                  with_mean...\n",
       "                                                   'Gender', 'IP_Address',\n",
       "                                                   'Order_ID', 'Order_Source',\n",
       "                                                   'Order_Payment_Method',\n",
       "                                                   'country'])],\n",
       "                                   verbose=False)),\n",
       "                ('classifier',\n",
       "                 LogisticRegression(C=1.0, class_weight=None, dual=False,\n",
       "                                    fit_intercept=True, intercept_scaling=1,\n",
       "                                    l1_ratio=None, max_iter=100,\n",
       "                                    multi_class='auto', n_jobs=None,\n",
       "                                    penalty='l2', random_state=None,\n",
       "                                    solver='lbfgs', tol=0.0001, verbose=0,\n",
       "                                    warm_start=False))],\n",
       "         verbose=False)"
      ]
     },
     "execution_count": 67,
     "metadata": {},
     "output_type": "execute_result"
    }
   ],
   "source": [
    "clf_logreg.fit(X_train, y_train)"
   ]
  },
  {
   "cell_type": "code",
   "execution_count": 68,
   "metadata": {},
   "outputs": [],
   "source": [
    "from sklearn.metrics import f1_score"
   ]
  },
  {
   "cell_type": "markdown",
   "metadata": {},
   "source": [
    "#### Calculating the train and test Prediction"
   ]
  },
  {
   "cell_type": "code",
   "execution_count": 69,
   "metadata": {},
   "outputs": [],
   "source": [
    "train_pred = clf_logreg.predict(X_train)\n",
    "test_pred = clf_logreg.predict(X_test)"
   ]
  },
  {
   "cell_type": "markdown",
   "metadata": {},
   "source": [
    "#### Calculating F-Score for train and test data after Obtaining the confusion matrix"
   ]
  },
  {
   "cell_type": "code",
   "execution_count": 70,
   "metadata": {},
   "outputs": [
    {
     "name": "stdout",
     "output_type": "stream",
     "text": [
      "[[36872     5]\n",
      " [ 1746  2036]]\n",
      "[[12295    16]\n",
      " [  720   523]]\n"
     ]
    }
   ],
   "source": [
    "confusion_matrix_test = confusion_matrix(y_test, test_pred)\n",
    "confusion_matrix_train = confusion_matrix(y_train, train_pred)\n",
    "\n",
    "print(confusion_matrix_train)\n",
    "print(confusion_matrix_test)"
   ]
  },
  {
   "cell_type": "code",
   "execution_count": 71,
   "metadata": {},
   "outputs": [
    {
     "name": "stdout",
     "output_type": "stream",
     "text": [
      "Train TNR or Specificity:  0.9998644141334707\n",
      "Train TPR or Recall:  0.5383395029085141\n",
      "Train Accuracy:  0.9569345040458447\n",
      "F1 Score:  0.6992958955864675\n",
      "F1 Score:  0.5869809203142536\n"
     ]
    }
   ],
   "source": [
    "Accuracy_Train=(confusion_matrix_train[0,0]+confusion_matrix_train[1,1])/(confusion_matrix_train[0,0]+confusion_matrix_train[0,1]+confusion_matrix_train[1,0]+confusion_matrix_train[1,1])\n",
    "TNR_Train= confusion_matrix_train[0,0]/(confusion_matrix_train[0,0]+confusion_matrix_train[0,1])\n",
    "TPR_Train= confusion_matrix_train[1,1]/(confusion_matrix_train[1,0]+confusion_matrix_train[1,1])\n",
    "\n",
    "print(\"Train TNR or Specificity: \",TNR_Train)\n",
    "print(\"Train TPR or Recall: \",TPR_Train)\n",
    "print(\"Train Accuracy: \",Accuracy_Train)\n",
    "print(\"F1 Score: \",f1_score(y_train, train_pred, zero_division=1))\n",
    "print(\"F1 Score: \",f1_score(y_test, test_pred, zero_division=1))"
   ]
  },
  {
   "cell_type": "code",
   "execution_count": null,
   "metadata": {},
   "outputs": [],
   "source": []
  },
  {
   "cell_type": "markdown",
   "metadata": {},
   "source": [
    "### SVM Model"
   ]
  },
  {
   "cell_type": "code",
   "execution_count": 292,
   "metadata": {},
   "outputs": [],
   "source": [
    "clf_svm = Pipeline(steps=[('preprocessor', preprocessor),\n",
    "                      ('classifier', SVC())])\n"
   ]
  },
  {
   "cell_type": "code",
   "execution_count": 293,
   "metadata": {},
   "outputs": [],
   "source": [
    "# svm_param_grid = {'classifier__C': [50,90], \n",
    "#                  \"classifier__kernel\": ['rbf']}"
   ]
  },
  {
   "cell_type": "markdown",
   "metadata": {},
   "source": [
    "### Grid Search CV was taking too long , I ignored it."
   ]
  },
  {
   "cell_type": "code",
   "execution_count": 295,
   "metadata": {},
   "outputs": [],
   "source": [
    "# svm_grid = GridSearchCV(clf_svm, param_grid= svm_param_grid, cv= 5)\n",
    "\n",
    "clf_svm.fit(X_train,y_train)"
   ]
  },
  {
   "cell_type": "code",
   "execution_count": 154,
   "metadata": {},
   "outputs": [],
   "source": [
    "train_pred = clf_svm.predict(X_train)\n",
    "test_pred = clf_svm.predict(X_test)"
   ]
  },
  {
   "cell_type": "code",
   "execution_count": 156,
   "metadata": {},
   "outputs": [
    {
     "name": "stdout",
     "output_type": "stream",
     "text": [
      "[[36804    73]\n",
      " [ 1786  1996]]\n",
      "[[12227    84]\n",
      " [  569   674]]\n"
     ]
    }
   ],
   "source": [
    "confusion_matrix_test = confusion_matrix(y_test, test_pred)\n",
    "confusion_matrix_train = confusion_matrix(y_train, train_pred)\n",
    "\n",
    "print(confusion_matrix_train)\n",
    "print(confusion_matrix_test)"
   ]
  },
  {
   "cell_type": "code",
   "execution_count": 157,
   "metadata": {},
   "outputs": [
    {
     "name": "stdout",
     "output_type": "stream",
     "text": [
      "Train TNR or Specificity:  0.9980204463486726\n",
      "Train TPR or Recall:  0.5277630883130618\n",
      "Train Accuracy:  0.9542782655746576\n",
      "F1 Score:  0.6822765339258248\n",
      "F1 Score:  0.6736631684157921\n"
     ]
    }
   ],
   "source": [
    "Accuracy_Train=(confusion_matrix_train[0,0]+confusion_matrix_train[1,1])/(confusion_matrix_train[0,0]+confusion_matrix_train[0,1]+confusion_matrix_train[1,0]+confusion_matrix_train[1,1])\n",
    "TNR_Train= confusion_matrix_train[0,0]/(confusion_matrix_train[0,0]+confusion_matrix_train[0,1])\n",
    "TPR_Train= confusion_matrix_train[1,1]/(confusion_matrix_train[1,0]+confusion_matrix_train[1,1])\n",
    "\n",
    "print(\"Train TNR or Specificity: \",TNR_Train)\n",
    "print(\"Train TPR or Recall: \",TPR_Train)\n",
    "print(\"Train Accuracy: \",Accuracy_Train)\n",
    "print(\"F1 Score: \",f1_score(y_train, train_pred, zero_division=1))\n",
    "print(\"F1 Score: \",f1_score(y_test, test_pred, zero_division=1))"
   ]
  },
  {
   "cell_type": "code",
   "execution_count": null,
   "metadata": {},
   "outputs": [],
   "source": []
  },
  {
   "cell_type": "code",
   "execution_count": null,
   "metadata": {},
   "outputs": [],
   "source": []
  },
  {
   "cell_type": "markdown",
   "metadata": {},
   "source": [
    "### Decision Trees "
   ]
  },
  {
   "cell_type": "markdown",
   "metadata": {},
   "source": [
    "### Gave the highest prediction on test data of 71 percent"
   ]
  },
  {
   "cell_type": "code",
   "execution_count": 72,
   "metadata": {},
   "outputs": [],
   "source": [
    "clf_logreg_CV = Pipeline(steps=[('preprocessor', preprocessor),\n",
    "                      ('classifier', DecisionTreeClassifier())])"
   ]
  },
  {
   "cell_type": "code",
   "execution_count": 73,
   "metadata": {},
   "outputs": [
    {
     "data": {
      "text/plain": [
       "Pipeline(memory=None,\n",
       "         steps=[('preprocessor',\n",
       "                 ColumnTransformer(n_jobs=None, remainder='drop',\n",
       "                                   sparse_threshold=0.3,\n",
       "                                   transformer_weights=None,\n",
       "                                   transformers=[('num',\n",
       "                                                  Pipeline(memory=None,\n",
       "                                                           steps=[('imputer',\n",
       "                                                                   SimpleImputer(add_indicator=False,\n",
       "                                                                                 copy=True,\n",
       "                                                                                 fill_value=None,\n",
       "                                                                                 missing_values=nan,\n",
       "                                                                                 strategy='median',\n",
       "                                                                                 verbose=0)),\n",
       "                                                                  ('scaler',\n",
       "                                                                   StandardScaler(copy=True,\n",
       "                                                                                  with_mean...\n",
       "                                                   'country'])],\n",
       "                                   verbose=False)),\n",
       "                ('classifier',\n",
       "                 DecisionTreeClassifier(ccp_alpha=0.0, class_weight=None,\n",
       "                                        criterion='gini', max_depth=None,\n",
       "                                        max_features=None, max_leaf_nodes=None,\n",
       "                                        min_impurity_decrease=0.0,\n",
       "                                        min_impurity_split=None,\n",
       "                                        min_samples_leaf=1, min_samples_split=2,\n",
       "                                        min_weight_fraction_leaf=0.0,\n",
       "                                        presort='deprecated', random_state=None,\n",
       "                                        splitter='best'))],\n",
       "         verbose=False)"
      ]
     },
     "execution_count": 73,
     "metadata": {},
     "output_type": "execute_result"
    }
   ],
   "source": [
    "clf_logreg_CV.fit(X_train, y_train)"
   ]
  },
  {
   "cell_type": "code",
   "execution_count": 74,
   "metadata": {},
   "outputs": [],
   "source": [
    "train_pred = clf_logreg_CV.predict(X_train)\n",
    "test_pred = clf_logreg_CV.predict(X_test)"
   ]
  },
  {
   "cell_type": "code",
   "execution_count": 75,
   "metadata": {},
   "outputs": [
    {
     "data": {
      "text/plain": [
       "array([0, 0, 0, ..., 0, 0, 0])"
      ]
     },
     "execution_count": 75,
     "metadata": {},
     "output_type": "execute_result"
    }
   ],
   "source": [
    "test_pred"
   ]
  },
  {
   "cell_type": "code",
   "execution_count": 76,
   "metadata": {},
   "outputs": [
    {
     "name": "stdout",
     "output_type": "stream",
     "text": [
      "[[36877     0]\n",
      " [    0  3782]]\n",
      "[[12269    42]\n",
      " [  566   677]]\n"
     ]
    }
   ],
   "source": [
    "confusion_matrix_test = confusion_matrix(y_test, test_pred)\n",
    "confusion_matrix_train = confusion_matrix(y_train, train_pred)\n",
    "\n",
    "print(confusion_matrix_train)\n",
    "print(confusion_matrix_test)"
   ]
  },
  {
   "cell_type": "code",
   "execution_count": 77,
   "metadata": {},
   "outputs": [
    {
     "name": "stdout",
     "output_type": "stream",
     "text": [
      "Train TNR or Specificity:  1.0\n",
      "Train TPR or Recall:  1.0\n",
      "Train Accuracy:  1.0\n",
      "F1 Score:  1.0\n",
      "F1 Score:  0.6901121304791029\n"
     ]
    }
   ],
   "source": [
    "Accuracy_Train=(confusion_matrix_train[0,0]+confusion_matrix_train[1,1])/(confusion_matrix_train[0,0]+confusion_matrix_train[0,1]+confusion_matrix_train[1,0]+confusion_matrix_train[1,1])\n",
    "TNR_Train= confusion_matrix_train[0,0]/(confusion_matrix_train[0,0]+confusion_matrix_train[0,1])\n",
    "TPR_Train= confusion_matrix_train[1,1]/(confusion_matrix_train[1,0]+confusion_matrix_train[1,1])\n",
    "\n",
    "print(\"Train TNR or Specificity: \",TNR_Train)\n",
    "print(\"Train TPR or Recall: \",TPR_Train)\n",
    "print(\"Train Accuracy: \",Accuracy_Train)\n",
    "print(\"F1 Score: \",f1_score(y_train, train_pred, zero_division=1))\n",
    "print(\"F1 Score: \",f1_score(y_test, test_pred, zero_division=1))"
   ]
  },
  {
   "cell_type": "code",
   "execution_count": 114,
   "metadata": {},
   "outputs": [],
   "source": [
    "test_dataset_merchant = pd.read_csv(\"test_merchant_data.csv\", na_values='', parse_dates=['Merchant_Registration_Date'])\n",
    "test_dataset_order = pd.read_csv(\"test_order_data.csv\", na_values='',  parse_dates=['Date_of_Order'])\n",
    "test_dataset_ip = pd.read_csv(\"test.csv\", na_values='')\n",
    "# test_dataset_ip_boundary = pd.read_csv(\"ip_boundaries_countries.csv\", na_values='')"
   ]
  },
  {
   "cell_type": "code",
   "execution_count": 116,
   "metadata": {},
   "outputs": [],
   "source": [
    "test_dataset_merchant_1 = pd.merge(left= test_dataset_merchant, right =  test_dataset_order, how = 'inner', on='Merchant_ID')\n",
    "\n"
   ]
  },
  {
   "cell_type": "code",
   "execution_count": 117,
   "metadata": {},
   "outputs": [],
   "source": [
    "test_dataset_merchant_2 = pd.merge(left= test_dataset_merchant_1, right =  test_dataset_ip, how = 'inner', on='Merchant_ID')\n"
   ]
  },
  {
   "cell_type": "code",
   "execution_count": 118,
   "metadata": {},
   "outputs": [
    {
     "data": {
      "text/html": [
       "<div>\n",
       "<style scoped>\n",
       "    .dataframe tbody tr th:only-of-type {\n",
       "        vertical-align: middle;\n",
       "    }\n",
       "\n",
       "    .dataframe tbody tr th {\n",
       "        vertical-align: top;\n",
       "    }\n",
       "\n",
       "    .dataframe thead th {\n",
       "        text-align: right;\n",
       "    }\n",
       "</style>\n",
       "<table border=\"1\" class=\"dataframe\">\n",
       "  <thead>\n",
       "    <tr style=\"text-align: right;\">\n",
       "      <th></th>\n",
       "      <th>Ecommerce_Provider_ID</th>\n",
       "      <th>Merchant_ID</th>\n",
       "      <th>Merchant_Registration_Date</th>\n",
       "      <th>Registered_Device_ID</th>\n",
       "      <th>Gender</th>\n",
       "      <th>Age</th>\n",
       "      <th>IP_Address</th>\n",
       "      <th>Customer_ID</th>\n",
       "      <th>Order_ID</th>\n",
       "      <th>Date_of_Order</th>\n",
       "      <th>Order_Value_USD</th>\n",
       "      <th>Order_Source</th>\n",
       "      <th>Order_Payment_Method</th>\n",
       "    </tr>\n",
       "  </thead>\n",
       "  <tbody>\n",
       "    <tr>\n",
       "      <td>0</td>\n",
       "      <td>1746213</td>\n",
       "      <td>53637</td>\n",
       "      <td>2018-02-11 20:50:29</td>\n",
       "      <td>PTMLBENYMQCTV</td>\n",
       "      <td>F</td>\n",
       "      <td>40</td>\n",
       "      <td>134.162.124.62</td>\n",
       "      <td>157068</td>\n",
       "      <td>a032de091f51</td>\n",
       "      <td>2018-03-09 09:09:42</td>\n",
       "      <td>60</td>\n",
       "      <td>SEO</td>\n",
       "      <td>Credit Card</td>\n",
       "    </tr>\n",
       "    <tr>\n",
       "      <td>1</td>\n",
       "      <td>1746213</td>\n",
       "      <td>243517</td>\n",
       "      <td>2018-04-06 13:19:39</td>\n",
       "      <td>HMCLDZUZPWZRR</td>\n",
       "      <td>M</td>\n",
       "      <td>39</td>\n",
       "      <td>152.76.98.87</td>\n",
       "      <td>112534</td>\n",
       "      <td>0d563f0606d6</td>\n",
       "      <td>2018-06-13 20:11:19</td>\n",
       "      <td>28</td>\n",
       "      <td>SEO</td>\n",
       "      <td>Credit Card</td>\n",
       "    </tr>\n",
       "    <tr>\n",
       "      <td>2</td>\n",
       "      <td>1746213</td>\n",
       "      <td>343640</td>\n",
       "      <td>2018-01-12 16:47:49</td>\n",
       "      <td>VLGSMAPXISSEJ</td>\n",
       "      <td>M</td>\n",
       "      <td>23</td>\n",
       "      <td>31.202.3.255</td>\n",
       "      <td>148774</td>\n",
       "      <td>18fb0fa888b6</td>\n",
       "      <td>2018-04-14 04:19:36</td>\n",
       "      <td>75</td>\n",
       "      <td>Ads</td>\n",
       "      <td>Debit Card</td>\n",
       "    </tr>\n",
       "    <tr>\n",
       "      <td>3</td>\n",
       "      <td>1746213</td>\n",
       "      <td>69889</td>\n",
       "      <td>2018-02-19 21:58:52</td>\n",
       "      <td>ZINHISBBOKQXT</td>\n",
       "      <td>M</td>\n",
       "      <td>34</td>\n",
       "      <td>12.242.168.185</td>\n",
       "      <td>114528</td>\n",
       "      <td>ed1eb920d721</td>\n",
       "      <td>2018-04-01 13:55:44</td>\n",
       "      <td>98</td>\n",
       "      <td>SEO</td>\n",
       "      <td>Credit Card</td>\n",
       "    </tr>\n",
       "    <tr>\n",
       "      <td>4</td>\n",
       "      <td>1746213</td>\n",
       "      <td>125706</td>\n",
       "      <td>2018-05-17 15:50:19</td>\n",
       "      <td>WFKEAOTPHTYEO</td>\n",
       "      <td>M</td>\n",
       "      <td>20</td>\n",
       "      <td>26.61.210.47</td>\n",
       "      <td>120940</td>\n",
       "      <td>313dcf962627</td>\n",
       "      <td>2018-05-25 02:08:18</td>\n",
       "      <td>35</td>\n",
       "      <td>SEO</td>\n",
       "      <td>Credit Card</td>\n",
       "    </tr>\n",
       "  </tbody>\n",
       "</table>\n",
       "</div>"
      ],
      "text/plain": [
       "   Ecommerce_Provider_ID  Merchant_ID Merchant_Registration_Date  \\\n",
       "0                1746213        53637        2018-02-11 20:50:29   \n",
       "1                1746213       243517        2018-04-06 13:19:39   \n",
       "2                1746213       343640        2018-01-12 16:47:49   \n",
       "3                1746213        69889        2018-02-19 21:58:52   \n",
       "4                1746213       125706        2018-05-17 15:50:19   \n",
       "\n",
       "  Registered_Device_ID Gender  Age      IP_Address  Customer_ID      Order_ID  \\\n",
       "0        PTMLBENYMQCTV      F   40  134.162.124.62       157068  a032de091f51   \n",
       "1        HMCLDZUZPWZRR      M   39    152.76.98.87       112534  0d563f0606d6   \n",
       "2        VLGSMAPXISSEJ      M   23    31.202.3.255       148774  18fb0fa888b6   \n",
       "3        ZINHISBBOKQXT      M   34  12.242.168.185       114528  ed1eb920d721   \n",
       "4        WFKEAOTPHTYEO      M   20    26.61.210.47       120940  313dcf962627   \n",
       "\n",
       "        Date_of_Order  Order_Value_USD Order_Source Order_Payment_Method  \n",
       "0 2018-03-09 09:09:42               60          SEO          Credit Card  \n",
       "1 2018-06-13 20:11:19               28          SEO          Credit Card  \n",
       "2 2018-04-14 04:19:36               75          Ads           Debit Card  \n",
       "3 2018-04-01 13:55:44               98          SEO          Credit Card  \n",
       "4 2018-05-25 02:08:18               35          SEO          Credit Card  "
      ]
     },
     "execution_count": 118,
     "metadata": {},
     "output_type": "execute_result"
    }
   ],
   "source": [
    "test_dataset_merchant_2.head()"
   ]
  },
  {
   "cell_type": "markdown",
   "metadata": {},
   "source": [
    "### Splitting the date values in the test data"
   ]
  },
  {
   "cell_type": "code",
   "execution_count": 119,
   "metadata": {},
   "outputs": [],
   "source": [
    "test_dataset_merchant_2[\"hr\"] = test_dataset_merchant_2[\"Date_of_Order\"].dt.hour\n",
    "test_dataset_merchant_2[\"weekday\"] = test_dataset_merchant_2[\"Date_of_Order\"].dt.weekday\n",
    "test_dataset_merchant_2[\"dayofyear\"] = test_dataset_merchant_2[\"Date_of_Order\"].dt.dayofyear\n",
    "test_dataset_merchant_2[\"month\"] = test_dataset_merchant_2[\"Date_of_Order\"].dt.month\n",
    "test_dataset_merchant_2[\"year\"] = test_dataset_merchant_2[\"Date_of_Order\"].dt.year"
   ]
  },
  {
   "cell_type": "code",
   "execution_count": 120,
   "metadata": {},
   "outputs": [],
   "source": [
    "test_dataset_merchant_2[\"hr_merchant\"] = test_dataset_merchant_2[\"Merchant_Registration_Date\"].dt.hour\n",
    "test_dataset_merchant_2[\"weekday_merchant\"] = test_dataset_merchant_2[\"Merchant_Registration_Date\"].dt.weekday\n",
    "test_dataset_merchant_2[\"dayofyear_merchant\"] = test_dataset_merchant_2[\"Merchant_Registration_Date\"].dt.dayofyear\n",
    "test_dataset_merchant_2[\"month_merchant\"] = test_dataset_merchant_2[\"Merchant_Registration_Date\"].dt.month\n",
    "test_dataset_merchant_2[\"year_merchant\"] = test_dataset_merchant_2[\"Merchant_Registration_Date\"].dt.year"
   ]
  },
  {
   "cell_type": "code",
   "execution_count": 121,
   "metadata": {},
   "outputs": [
    {
     "data": {
      "text/html": [
       "<div>\n",
       "<style scoped>\n",
       "    .dataframe tbody tr th:only-of-type {\n",
       "        vertical-align: middle;\n",
       "    }\n",
       "\n",
       "    .dataframe tbody tr th {\n",
       "        vertical-align: top;\n",
       "    }\n",
       "\n",
       "    .dataframe thead th {\n",
       "        text-align: right;\n",
       "    }\n",
       "</style>\n",
       "<table border=\"1\" class=\"dataframe\">\n",
       "  <thead>\n",
       "    <tr style=\"text-align: right;\">\n",
       "      <th></th>\n",
       "      <th>Ecommerce_Provider_ID</th>\n",
       "      <th>Merchant_ID</th>\n",
       "      <th>Merchant_Registration_Date</th>\n",
       "      <th>Registered_Device_ID</th>\n",
       "      <th>Gender</th>\n",
       "      <th>Age</th>\n",
       "      <th>IP_Address</th>\n",
       "      <th>Customer_ID</th>\n",
       "      <th>Order_ID</th>\n",
       "      <th>Date_of_Order</th>\n",
       "      <th>...</th>\n",
       "      <th>hr</th>\n",
       "      <th>weekday</th>\n",
       "      <th>dayofyear</th>\n",
       "      <th>month</th>\n",
       "      <th>year</th>\n",
       "      <th>hr_merchant</th>\n",
       "      <th>weekday_merchant</th>\n",
       "      <th>dayofyear_merchant</th>\n",
       "      <th>month_merchant</th>\n",
       "      <th>year_merchant</th>\n",
       "    </tr>\n",
       "  </thead>\n",
       "  <tbody>\n",
       "    <tr>\n",
       "      <td>0</td>\n",
       "      <td>1746213</td>\n",
       "      <td>53637</td>\n",
       "      <td>2018-02-11 20:50:29</td>\n",
       "      <td>PTMLBENYMQCTV</td>\n",
       "      <td>F</td>\n",
       "      <td>40</td>\n",
       "      <td>134.162.124.62</td>\n",
       "      <td>157068</td>\n",
       "      <td>a032de091f51</td>\n",
       "      <td>2018-03-09 09:09:42</td>\n",
       "      <td>...</td>\n",
       "      <td>9</td>\n",
       "      <td>4</td>\n",
       "      <td>68</td>\n",
       "      <td>3</td>\n",
       "      <td>2018</td>\n",
       "      <td>20</td>\n",
       "      <td>6</td>\n",
       "      <td>42</td>\n",
       "      <td>2</td>\n",
       "      <td>2018</td>\n",
       "    </tr>\n",
       "    <tr>\n",
       "      <td>1</td>\n",
       "      <td>1746213</td>\n",
       "      <td>243517</td>\n",
       "      <td>2018-04-06 13:19:39</td>\n",
       "      <td>HMCLDZUZPWZRR</td>\n",
       "      <td>M</td>\n",
       "      <td>39</td>\n",
       "      <td>152.76.98.87</td>\n",
       "      <td>112534</td>\n",
       "      <td>0d563f0606d6</td>\n",
       "      <td>2018-06-13 20:11:19</td>\n",
       "      <td>...</td>\n",
       "      <td>20</td>\n",
       "      <td>2</td>\n",
       "      <td>164</td>\n",
       "      <td>6</td>\n",
       "      <td>2018</td>\n",
       "      <td>13</td>\n",
       "      <td>4</td>\n",
       "      <td>96</td>\n",
       "      <td>4</td>\n",
       "      <td>2018</td>\n",
       "    </tr>\n",
       "    <tr>\n",
       "      <td>2</td>\n",
       "      <td>1746213</td>\n",
       "      <td>343640</td>\n",
       "      <td>2018-01-12 16:47:49</td>\n",
       "      <td>VLGSMAPXISSEJ</td>\n",
       "      <td>M</td>\n",
       "      <td>23</td>\n",
       "      <td>31.202.3.255</td>\n",
       "      <td>148774</td>\n",
       "      <td>18fb0fa888b6</td>\n",
       "      <td>2018-04-14 04:19:36</td>\n",
       "      <td>...</td>\n",
       "      <td>4</td>\n",
       "      <td>5</td>\n",
       "      <td>104</td>\n",
       "      <td>4</td>\n",
       "      <td>2018</td>\n",
       "      <td>16</td>\n",
       "      <td>4</td>\n",
       "      <td>12</td>\n",
       "      <td>1</td>\n",
       "      <td>2018</td>\n",
       "    </tr>\n",
       "    <tr>\n",
       "      <td>3</td>\n",
       "      <td>1746213</td>\n",
       "      <td>69889</td>\n",
       "      <td>2018-02-19 21:58:52</td>\n",
       "      <td>ZINHISBBOKQXT</td>\n",
       "      <td>M</td>\n",
       "      <td>34</td>\n",
       "      <td>12.242.168.185</td>\n",
       "      <td>114528</td>\n",
       "      <td>ed1eb920d721</td>\n",
       "      <td>2018-04-01 13:55:44</td>\n",
       "      <td>...</td>\n",
       "      <td>13</td>\n",
       "      <td>6</td>\n",
       "      <td>91</td>\n",
       "      <td>4</td>\n",
       "      <td>2018</td>\n",
       "      <td>21</td>\n",
       "      <td>0</td>\n",
       "      <td>50</td>\n",
       "      <td>2</td>\n",
       "      <td>2018</td>\n",
       "    </tr>\n",
       "    <tr>\n",
       "      <td>4</td>\n",
       "      <td>1746213</td>\n",
       "      <td>125706</td>\n",
       "      <td>2018-05-17 15:50:19</td>\n",
       "      <td>WFKEAOTPHTYEO</td>\n",
       "      <td>M</td>\n",
       "      <td>20</td>\n",
       "      <td>26.61.210.47</td>\n",
       "      <td>120940</td>\n",
       "      <td>313dcf962627</td>\n",
       "      <td>2018-05-25 02:08:18</td>\n",
       "      <td>...</td>\n",
       "      <td>2</td>\n",
       "      <td>4</td>\n",
       "      <td>145</td>\n",
       "      <td>5</td>\n",
       "      <td>2018</td>\n",
       "      <td>15</td>\n",
       "      <td>3</td>\n",
       "      <td>137</td>\n",
       "      <td>5</td>\n",
       "      <td>2018</td>\n",
       "    </tr>\n",
       "  </tbody>\n",
       "</table>\n",
       "<p>5 rows × 23 columns</p>\n",
       "</div>"
      ],
      "text/plain": [
       "   Ecommerce_Provider_ID  Merchant_ID Merchant_Registration_Date  \\\n",
       "0                1746213        53637        2018-02-11 20:50:29   \n",
       "1                1746213       243517        2018-04-06 13:19:39   \n",
       "2                1746213       343640        2018-01-12 16:47:49   \n",
       "3                1746213        69889        2018-02-19 21:58:52   \n",
       "4                1746213       125706        2018-05-17 15:50:19   \n",
       "\n",
       "  Registered_Device_ID Gender  Age      IP_Address  Customer_ID      Order_ID  \\\n",
       "0        PTMLBENYMQCTV      F   40  134.162.124.62       157068  a032de091f51   \n",
       "1        HMCLDZUZPWZRR      M   39    152.76.98.87       112534  0d563f0606d6   \n",
       "2        VLGSMAPXISSEJ      M   23    31.202.3.255       148774  18fb0fa888b6   \n",
       "3        ZINHISBBOKQXT      M   34  12.242.168.185       114528  ed1eb920d721   \n",
       "4        WFKEAOTPHTYEO      M   20    26.61.210.47       120940  313dcf962627   \n",
       "\n",
       "        Date_of_Order  ...  hr weekday dayofyear  month  year  hr_merchant  \\\n",
       "0 2018-03-09 09:09:42  ...   9       4        68      3  2018           20   \n",
       "1 2018-06-13 20:11:19  ...  20       2       164      6  2018           13   \n",
       "2 2018-04-14 04:19:36  ...   4       5       104      4  2018           16   \n",
       "3 2018-04-01 13:55:44  ...  13       6        91      4  2018           21   \n",
       "4 2018-05-25 02:08:18  ...   2       4       145      5  2018           15   \n",
       "\n",
       "   weekday_merchant  dayofyear_merchant  month_merchant  year_merchant  \n",
       "0                 6                  42               2           2018  \n",
       "1                 4                  96               4           2018  \n",
       "2                 4                  12               1           2018  \n",
       "3                 0                  50               2           2018  \n",
       "4                 3                 137               5           2018  \n",
       "\n",
       "[5 rows x 23 columns]"
      ]
     },
     "execution_count": 121,
     "metadata": {},
     "output_type": "execute_result"
    }
   ],
   "source": [
    "test_dataset_merchant_2.head()"
   ]
  },
  {
   "cell_type": "code",
   "execution_count": 123,
   "metadata": {},
   "outputs": [],
   "source": [
    "test_dataset_merchant_2[\"Fraudster\"] = clf_logreg_CV.predict(test_dataset_merchant_2)"
   ]
  },
  {
   "cell_type": "code",
   "execution_count": 125,
   "metadata": {},
   "outputs": [
    {
     "data": {
      "text/html": [
       "<div>\n",
       "<style scoped>\n",
       "    .dataframe tbody tr th:only-of-type {\n",
       "        vertical-align: middle;\n",
       "    }\n",
       "\n",
       "    .dataframe tbody tr th {\n",
       "        vertical-align: top;\n",
       "    }\n",
       "\n",
       "    .dataframe thead th {\n",
       "        text-align: right;\n",
       "    }\n",
       "</style>\n",
       "<table border=\"1\" class=\"dataframe\">\n",
       "  <thead>\n",
       "    <tr style=\"text-align: right;\">\n",
       "      <th></th>\n",
       "      <th>Ecommerce_Provider_ID</th>\n",
       "      <th>Merchant_ID</th>\n",
       "      <th>Merchant_Registration_Date</th>\n",
       "      <th>Registered_Device_ID</th>\n",
       "      <th>Gender</th>\n",
       "      <th>Age</th>\n",
       "      <th>IP_Address</th>\n",
       "      <th>Customer_ID</th>\n",
       "      <th>Order_ID</th>\n",
       "      <th>Date_of_Order</th>\n",
       "      <th>...</th>\n",
       "      <th>weekday</th>\n",
       "      <th>dayofyear</th>\n",
       "      <th>month</th>\n",
       "      <th>year</th>\n",
       "      <th>hr_merchant</th>\n",
       "      <th>weekday_merchant</th>\n",
       "      <th>dayofyear_merchant</th>\n",
       "      <th>month_merchant</th>\n",
       "      <th>year_merchant</th>\n",
       "      <th>Fraudster</th>\n",
       "    </tr>\n",
       "  </thead>\n",
       "  <tbody>\n",
       "    <tr>\n",
       "      <td>0</td>\n",
       "      <td>1746213</td>\n",
       "      <td>53637</td>\n",
       "      <td>2018-02-11 20:50:29</td>\n",
       "      <td>PTMLBENYMQCTV</td>\n",
       "      <td>F</td>\n",
       "      <td>40</td>\n",
       "      <td>134.162.124.62</td>\n",
       "      <td>157068</td>\n",
       "      <td>a032de091f51</td>\n",
       "      <td>2018-03-09 09:09:42</td>\n",
       "      <td>...</td>\n",
       "      <td>4</td>\n",
       "      <td>68</td>\n",
       "      <td>3</td>\n",
       "      <td>2018</td>\n",
       "      <td>20</td>\n",
       "      <td>6</td>\n",
       "      <td>42</td>\n",
       "      <td>2</td>\n",
       "      <td>2018</td>\n",
       "      <td>0</td>\n",
       "    </tr>\n",
       "    <tr>\n",
       "      <td>1</td>\n",
       "      <td>1746213</td>\n",
       "      <td>243517</td>\n",
       "      <td>2018-04-06 13:19:39</td>\n",
       "      <td>HMCLDZUZPWZRR</td>\n",
       "      <td>M</td>\n",
       "      <td>39</td>\n",
       "      <td>152.76.98.87</td>\n",
       "      <td>112534</td>\n",
       "      <td>0d563f0606d6</td>\n",
       "      <td>2018-06-13 20:11:19</td>\n",
       "      <td>...</td>\n",
       "      <td>2</td>\n",
       "      <td>164</td>\n",
       "      <td>6</td>\n",
       "      <td>2018</td>\n",
       "      <td>13</td>\n",
       "      <td>4</td>\n",
       "      <td>96</td>\n",
       "      <td>4</td>\n",
       "      <td>2018</td>\n",
       "      <td>0</td>\n",
       "    </tr>\n",
       "    <tr>\n",
       "      <td>2</td>\n",
       "      <td>1746213</td>\n",
       "      <td>343640</td>\n",
       "      <td>2018-01-12 16:47:49</td>\n",
       "      <td>VLGSMAPXISSEJ</td>\n",
       "      <td>M</td>\n",
       "      <td>23</td>\n",
       "      <td>31.202.3.255</td>\n",
       "      <td>148774</td>\n",
       "      <td>18fb0fa888b6</td>\n",
       "      <td>2018-04-14 04:19:36</td>\n",
       "      <td>...</td>\n",
       "      <td>5</td>\n",
       "      <td>104</td>\n",
       "      <td>4</td>\n",
       "      <td>2018</td>\n",
       "      <td>16</td>\n",
       "      <td>4</td>\n",
       "      <td>12</td>\n",
       "      <td>1</td>\n",
       "      <td>2018</td>\n",
       "      <td>0</td>\n",
       "    </tr>\n",
       "    <tr>\n",
       "      <td>3</td>\n",
       "      <td>1746213</td>\n",
       "      <td>69889</td>\n",
       "      <td>2018-02-19 21:58:52</td>\n",
       "      <td>ZINHISBBOKQXT</td>\n",
       "      <td>M</td>\n",
       "      <td>34</td>\n",
       "      <td>12.242.168.185</td>\n",
       "      <td>114528</td>\n",
       "      <td>ed1eb920d721</td>\n",
       "      <td>2018-04-01 13:55:44</td>\n",
       "      <td>...</td>\n",
       "      <td>6</td>\n",
       "      <td>91</td>\n",
       "      <td>4</td>\n",
       "      <td>2018</td>\n",
       "      <td>21</td>\n",
       "      <td>0</td>\n",
       "      <td>50</td>\n",
       "      <td>2</td>\n",
       "      <td>2018</td>\n",
       "      <td>0</td>\n",
       "    </tr>\n",
       "    <tr>\n",
       "      <td>4</td>\n",
       "      <td>1746213</td>\n",
       "      <td>125706</td>\n",
       "      <td>2018-05-17 15:50:19</td>\n",
       "      <td>WFKEAOTPHTYEO</td>\n",
       "      <td>M</td>\n",
       "      <td>20</td>\n",
       "      <td>26.61.210.47</td>\n",
       "      <td>120940</td>\n",
       "      <td>313dcf962627</td>\n",
       "      <td>2018-05-25 02:08:18</td>\n",
       "      <td>...</td>\n",
       "      <td>4</td>\n",
       "      <td>145</td>\n",
       "      <td>5</td>\n",
       "      <td>2018</td>\n",
       "      <td>15</td>\n",
       "      <td>3</td>\n",
       "      <td>137</td>\n",
       "      <td>5</td>\n",
       "      <td>2018</td>\n",
       "      <td>0</td>\n",
       "    </tr>\n",
       "  </tbody>\n",
       "</table>\n",
       "<p>5 rows × 24 columns</p>\n",
       "</div>"
      ],
      "text/plain": [
       "   Ecommerce_Provider_ID  Merchant_ID Merchant_Registration_Date  \\\n",
       "0                1746213        53637        2018-02-11 20:50:29   \n",
       "1                1746213       243517        2018-04-06 13:19:39   \n",
       "2                1746213       343640        2018-01-12 16:47:49   \n",
       "3                1746213        69889        2018-02-19 21:58:52   \n",
       "4                1746213       125706        2018-05-17 15:50:19   \n",
       "\n",
       "  Registered_Device_ID Gender  Age      IP_Address  Customer_ID      Order_ID  \\\n",
       "0        PTMLBENYMQCTV      F   40  134.162.124.62       157068  a032de091f51   \n",
       "1        HMCLDZUZPWZRR      M   39    152.76.98.87       112534  0d563f0606d6   \n",
       "2        VLGSMAPXISSEJ      M   23    31.202.3.255       148774  18fb0fa888b6   \n",
       "3        ZINHISBBOKQXT      M   34  12.242.168.185       114528  ed1eb920d721   \n",
       "4        WFKEAOTPHTYEO      M   20    26.61.210.47       120940  313dcf962627   \n",
       "\n",
       "        Date_of_Order  ...  weekday dayofyear month  year  hr_merchant  \\\n",
       "0 2018-03-09 09:09:42  ...        4        68     3  2018           20   \n",
       "1 2018-06-13 20:11:19  ...        2       164     6  2018           13   \n",
       "2 2018-04-14 04:19:36  ...        5       104     4  2018           16   \n",
       "3 2018-04-01 13:55:44  ...        6        91     4  2018           21   \n",
       "4 2018-05-25 02:08:18  ...        4       145     5  2018           15   \n",
       "\n",
       "   weekday_merchant  dayofyear_merchant  month_merchant  year_merchant  \\\n",
       "0                 6                  42               2           2018   \n",
       "1                 4                  96               4           2018   \n",
       "2                 4                  12               1           2018   \n",
       "3                 0                  50               2           2018   \n",
       "4                 3                 137               5           2018   \n",
       "\n",
       "   Fraudster  \n",
       "0          0  \n",
       "1          0  \n",
       "2          0  \n",
       "3          0  \n",
       "4          0  \n",
       "\n",
       "[5 rows x 24 columns]"
      ]
     },
     "execution_count": 125,
     "metadata": {},
     "output_type": "execute_result"
    }
   ],
   "source": [
    "test_dataset_merchant_2.head()"
   ]
  },
  {
   "cell_type": "code",
   "execution_count": 126,
   "metadata": {},
   "outputs": [],
   "source": [
    "output_format = test_dataset_merchant_2.loc[:,[\"Merchant_ID\", \"Fraudster\"]]"
   ]
  },
  {
   "cell_type": "code",
   "execution_count": 128,
   "metadata": {},
   "outputs": [
    {
     "data": {
      "text/html": [
       "<div>\n",
       "<style scoped>\n",
       "    .dataframe tbody tr th:only-of-type {\n",
       "        vertical-align: middle;\n",
       "    }\n",
       "\n",
       "    .dataframe tbody tr th {\n",
       "        vertical-align: top;\n",
       "    }\n",
       "\n",
       "    .dataframe thead th {\n",
       "        text-align: right;\n",
       "    }\n",
       "</style>\n",
       "<table border=\"1\" class=\"dataframe\">\n",
       "  <thead>\n",
       "    <tr style=\"text-align: right;\">\n",
       "      <th></th>\n",
       "      <th>Merchant_ID</th>\n",
       "      <th>Fraudster</th>\n",
       "    </tr>\n",
       "  </thead>\n",
       "  <tbody>\n",
       "    <tr>\n",
       "      <td>0</td>\n",
       "      <td>53637</td>\n",
       "      <td>0</td>\n",
       "    </tr>\n",
       "    <tr>\n",
       "      <td>1</td>\n",
       "      <td>243517</td>\n",
       "      <td>0</td>\n",
       "    </tr>\n",
       "    <tr>\n",
       "      <td>2</td>\n",
       "      <td>343640</td>\n",
       "      <td>0</td>\n",
       "    </tr>\n",
       "    <tr>\n",
       "      <td>3</td>\n",
       "      <td>69889</td>\n",
       "      <td>0</td>\n",
       "    </tr>\n",
       "    <tr>\n",
       "      <td>4</td>\n",
       "      <td>125706</td>\n",
       "      <td>0</td>\n",
       "    </tr>\n",
       "    <tr>\n",
       "      <td>...</td>\n",
       "      <td>...</td>\n",
       "      <td>...</td>\n",
       "    </tr>\n",
       "    <tr>\n",
       "      <td>13549</td>\n",
       "      <td>279884</td>\n",
       "      <td>0</td>\n",
       "    </tr>\n",
       "    <tr>\n",
       "      <td>13550</td>\n",
       "      <td>206253</td>\n",
       "      <td>0</td>\n",
       "    </tr>\n",
       "    <tr>\n",
       "      <td>13551</td>\n",
       "      <td>313049</td>\n",
       "      <td>0</td>\n",
       "    </tr>\n",
       "    <tr>\n",
       "      <td>13552</td>\n",
       "      <td>304081</td>\n",
       "      <td>0</td>\n",
       "    </tr>\n",
       "    <tr>\n",
       "      <td>13553</td>\n",
       "      <td>319050</td>\n",
       "      <td>0</td>\n",
       "    </tr>\n",
       "  </tbody>\n",
       "</table>\n",
       "<p>13554 rows × 2 columns</p>\n",
       "</div>"
      ],
      "text/plain": [
       "       Merchant_ID  Fraudster\n",
       "0            53637          0\n",
       "1           243517          0\n",
       "2           343640          0\n",
       "3            69889          0\n",
       "4           125706          0\n",
       "...            ...        ...\n",
       "13549       279884          0\n",
       "13550       206253          0\n",
       "13551       313049          0\n",
       "13552       304081          0\n",
       "13553       319050          0\n",
       "\n",
       "[13554 rows x 2 columns]"
      ]
     },
     "execution_count": 128,
     "metadata": {},
     "output_type": "execute_result"
    }
   ],
   "source": [
    "output_format"
   ]
  },
  {
   "cell_type": "code",
   "execution_count": 129,
   "metadata": {},
   "outputs": [],
   "source": [
    "export_csv = output_format.to_csv(r'fraudulent_outcome.csv', index = None, header=True)"
   ]
  },
  {
   "cell_type": "code",
   "execution_count": null,
   "metadata": {},
   "outputs": [],
   "source": []
  },
  {
   "cell_type": "code",
   "execution_count": null,
   "metadata": {},
   "outputs": [],
   "source": []
  },
  {
   "cell_type": "markdown",
   "metadata": {},
   "source": [
    "### XGBoost"
   ]
  },
  {
   "cell_type": "markdown",
   "metadata": {},
   "source": [
    "### Gave the highest prediction on test data of 71 percent"
   ]
  },
  {
   "cell_type": "code",
   "execution_count": 126,
   "metadata": {},
   "outputs": [],
   "source": [
    "from xgboost import XGBClassifier\n",
    "from xgboost import plot_importance"
   ]
  },
  {
   "cell_type": "code",
   "execution_count": 127,
   "metadata": {},
   "outputs": [],
   "source": [
    "clf_xgb = Pipeline(steps=[('preprocessor', preprocessor),\n",
    "                      ('XGB',XGBClassifier())])\n"
   ]
  },
  {
   "cell_type": "code",
   "execution_count": 128,
   "metadata": {},
   "outputs": [
    {
     "name": "stdout",
     "output_type": "stream",
     "text": [
      "CPU times: user 35.1 s, sys: 220 ms, total: 35.3 s\n",
      "Wall time: 34.1 s\n"
     ]
    },
    {
     "data": {
      "text/plain": [
       "Pipeline(memory=None,\n",
       "         steps=[('preprocessor',\n",
       "                 ColumnTransformer(n_jobs=None, remainder='drop',\n",
       "                                   sparse_threshold=0.3,\n",
       "                                   transformer_weights=None,\n",
       "                                   transformers=[('num',\n",
       "                                                  Pipeline(memory=None,\n",
       "                                                           steps=[('imputer',\n",
       "                                                                   SimpleImputer(add_indicator=False,\n",
       "                                                                                 copy=True,\n",
       "                                                                                 fill_value=None,\n",
       "                                                                                 missing_values=nan,\n",
       "                                                                                 strategy='median',\n",
       "                                                                                 verbose=0)),\n",
       "                                                                  ('scaler',\n",
       "                                                                   StandardScaler(copy=True,\n",
       "                                                                                  with_mean...\n",
       "                 XGBClassifier(base_score=0.5, booster='gbtree',\n",
       "                               colsample_bylevel=1, colsample_bynode=1,\n",
       "                               colsample_bytree=1, gamma=0, learning_rate=0.1,\n",
       "                               max_delta_step=0, max_depth=3,\n",
       "                               min_child_weight=1, missing=None,\n",
       "                               n_estimators=100, n_jobs=1, nthread=None,\n",
       "                               objective='binary:logistic', random_state=0,\n",
       "                               reg_alpha=0, reg_lambda=1, scale_pos_weight=1,\n",
       "                               seed=None, silent=None, subsample=1,\n",
       "                               verbosity=1))],\n",
       "         verbose=False)"
      ]
     },
     "execution_count": 128,
     "metadata": {},
     "output_type": "execute_result"
    }
   ],
   "source": [
    "%%time\n",
    "clf_xgb.fit(X_train, y_train)"
   ]
  },
  {
   "cell_type": "code",
   "execution_count": 129,
   "metadata": {},
   "outputs": [],
   "source": [
    "train_pred = clf_xgb.predict(X_train)\n",
    "test_pred = clf_xgb.predict(X_test)"
   ]
  },
  {
   "cell_type": "code",
   "execution_count": 130,
   "metadata": {},
   "outputs": [
    {
     "name": "stdout",
     "output_type": "stream",
     "text": [
      "[[36834    43]\n",
      " [ 1802  1980]]\n",
      "[[12292    19]\n",
      " [  571   672]]\n"
     ]
    }
   ],
   "source": [
    "confusion_matrix_test = confusion_matrix(y_test, test_pred)\n",
    "confusion_matrix_train = confusion_matrix(y_train, train_pred)\n",
    "\n",
    "print(confusion_matrix_train)\n",
    "print(confusion_matrix_test)"
   ]
  },
  {
   "cell_type": "code",
   "execution_count": 131,
   "metadata": {},
   "outputs": [
    {
     "name": "stdout",
     "output_type": "stream",
     "text": [
      "Train TNR or Specificity:  0.9988339615478482\n",
      "Train TPR or Recall:  0.523532522474881\n",
      "Train Accuracy:  0.9546225927838855\n",
      "F1 Score:  0.682170542635659\n",
      "F1 Score:  0.6949327817993795\n"
     ]
    }
   ],
   "source": [
    "Accuracy_Train=(confusion_matrix_train[0,0]+confusion_matrix_train[1,1])/(confusion_matrix_train[0,0]+confusion_matrix_train[0,1]+confusion_matrix_train[1,0]+confusion_matrix_train[1,1])\n",
    "TNR_Train= confusion_matrix_train[0,0]/(confusion_matrix_train[0,0]+confusion_matrix_train[0,1])\n",
    "TPR_Train= confusion_matrix_train[1,1]/(confusion_matrix_train[1,0]+confusion_matrix_train[1,1])\n",
    "\n",
    "print(\"Train TNR or Specificity: \",TNR_Train)\n",
    "print(\"Train TPR or Recall: \",TPR_Train)\n",
    "print(\"Train Accuracy: \",Accuracy_Train)\n",
    "print(\"F1 Score: \",f1_score(y_train, train_pred, zero_division=1))\n",
    "print(\"F1 Score: \",f1_score(y_test, test_pred, zero_division=1))"
   ]
  },
  {
   "cell_type": "code",
   "execution_count": 149,
   "metadata": {},
   "outputs": [],
   "source": [
    "test_dataset_merchant_2[\"Fraudster\"] = clf_xgb.predict(test_dataset_merchant_2)"
   ]
  },
  {
   "cell_type": "code",
   "execution_count": 150,
   "metadata": {},
   "outputs": [],
   "source": [
    "output_format_1 = test_dataset_merchant_2.loc[:,[\"Merchant_ID\", \"Fraudster\"]]"
   ]
  },
  {
   "cell_type": "code",
   "execution_count": 151,
   "metadata": {},
   "outputs": [],
   "source": [
    "export_csv = output_format_1.to_csv(r'fraudulent_outcome_xgboost.csv', index = None, header=True)"
   ]
  },
  {
   "cell_type": "markdown",
   "metadata": {},
   "source": [
    "### Stacking Classifier"
   ]
  },
  {
   "cell_type": "code",
   "execution_count": 158,
   "metadata": {},
   "outputs": [],
   "source": [
    "from sklearn.ensemble import StackingClassifier \n",
    "estimators = [\n",
    "     ('dt', clf_logreg_CV),\n",
    "     ('xgb', clf_xgb),\n",
    " ]"
   ]
  },
  {
   "cell_type": "code",
   "execution_count": 159,
   "metadata": {},
   "outputs": [],
   "source": [
    "clf_final = StackingClassifier(\n",
    "     estimators=estimators, final_estimator=DecisionTreeClassifier()\n",
    " )"
   ]
  },
  {
   "cell_type": "code",
   "execution_count": 160,
   "metadata": {},
   "outputs": [
    {
     "name": "stdout",
     "output_type": "stream",
     "text": [
      "CPU times: user 8min 47s, sys: 2.82 s, total: 8min 50s\n",
      "Wall time: 9min 28s\n"
     ]
    },
    {
     "data": {
      "text/plain": [
       "StackingClassifier(cv=None,\n",
       "                   estimators=[('dt',\n",
       "                                Pipeline(memory=None,\n",
       "                                         steps=[('preprocessor',\n",
       "                                                 ColumnTransformer(n_jobs=None,\n",
       "                                                                   remainder='drop',\n",
       "                                                                   sparse_threshold=0.3,\n",
       "                                                                   transformer_weights=None,\n",
       "                                                                   transformers=[('num',\n",
       "                                                                                  Pipeline(memory=None,\n",
       "                                                                                           steps=[('imputer',\n",
       "                                                                                                   SimpleImputer(add_indicator=False,\n",
       "                                                                                                                 copy=True,\n",
       "                                                                                                                 fill_value=None,\n",
       "                                                                                                                 missing_values=nan,\n",
       "                                                                                                                 strategy='median',\n",
       "                                                                                                                 verbose=0))...\n",
       "                   final_estimator=DecisionTreeClassifier(ccp_alpha=0.0,\n",
       "                                                          class_weight=None,\n",
       "                                                          criterion='gini',\n",
       "                                                          max_depth=None,\n",
       "                                                          max_features=None,\n",
       "                                                          max_leaf_nodes=None,\n",
       "                                                          min_impurity_decrease=0.0,\n",
       "                                                          min_impurity_split=None,\n",
       "                                                          min_samples_leaf=1,\n",
       "                                                          min_samples_split=2,\n",
       "                                                          min_weight_fraction_leaf=0.0,\n",
       "                                                          presort='deprecated',\n",
       "                                                          random_state=None,\n",
       "                                                          splitter='best'),\n",
       "                   n_jobs=None, passthrough=False, stack_method='auto',\n",
       "                   verbose=0)"
      ]
     },
     "execution_count": 160,
     "metadata": {},
     "output_type": "execute_result"
    }
   ],
   "source": [
    "%%time\n",
    "clf_final.fit(X_train, y_train)"
   ]
  },
  {
   "cell_type": "code",
   "execution_count": 161,
   "metadata": {},
   "outputs": [],
   "source": [
    "train_pred = clf_xgb.predict(X_train)\n",
    "test_pred = clf_xgb.predict(X_test)"
   ]
  },
  {
   "cell_type": "code",
   "execution_count": 162,
   "metadata": {},
   "outputs": [
    {
     "name": "stdout",
     "output_type": "stream",
     "text": [
      "[[36835    42]\n",
      " [ 1802  1980]]\n",
      "[[12293    18]\n",
      " [  571   672]]\n"
     ]
    }
   ],
   "source": [
    "confusion_matrix_test = confusion_matrix(y_test, test_pred)\n",
    "confusion_matrix_train = confusion_matrix(y_train, train_pred)\n",
    "\n",
    "print(confusion_matrix_train)\n",
    "print(confusion_matrix_test)"
   ]
  },
  {
   "cell_type": "code",
   "execution_count": 163,
   "metadata": {},
   "outputs": [
    {
     "name": "stdout",
     "output_type": "stream",
     "text": [
      "Train TNR or Specificity:  0.9988610787211541\n",
      "Train TPR or Recall:  0.523532522474881\n",
      "Train Accuracy:  0.9546471875845446\n",
      "F1 Score:  0.6822880771881462\n",
      "F1 Score:  0.6952922917744437\n"
     ]
    }
   ],
   "source": [
    "Accuracy_Train=(confusion_matrix_train[0,0]+confusion_matrix_train[1,1])/(confusion_matrix_train[0,0]+confusion_matrix_train[0,1]+confusion_matrix_train[1,0]+confusion_matrix_train[1,1])\n",
    "TNR_Train= confusion_matrix_train[0,0]/(confusion_matrix_train[0,0]+confusion_matrix_train[0,1])\n",
    "TPR_Train= confusion_matrix_train[1,1]/(confusion_matrix_train[1,0]+confusion_matrix_train[1,1])\n",
    "\n",
    "print(\"Train TNR or Specificity: \",TNR_Train)\n",
    "print(\"Train TPR or Recall: \",TPR_Train)\n",
    "print(\"Train Accuracy: \",Accuracy_Train)\n",
    "print(\"F1 Score: \",f1_score(y_train, train_pred, zero_division=1))\n",
    "print(\"F1 Score: \",f1_score(y_test, test_pred, zero_division=1))"
   ]
  },
  {
   "cell_type": "code",
   "execution_count": 164,
   "metadata": {},
   "outputs": [],
   "source": [
    "test_dataset_merchant_2[\"Fraudster\"] = clf_final.predict(test_dataset_merchant_2)"
   ]
  },
  {
   "cell_type": "code",
   "execution_count": 165,
   "metadata": {},
   "outputs": [],
   "source": [
    "output_format_2 = test_dataset_merchant_2.loc[:,[\"Merchant_ID\", \"Fraudster\"]]"
   ]
  },
  {
   "cell_type": "code",
   "execution_count": 166,
   "metadata": {},
   "outputs": [],
   "source": [
    "export_csv = output_format_2.to_csv(r'fraudulent_outcome_stacking.csv', index = None, header=True)"
   ]
  },
  {
   "cell_type": "markdown",
   "metadata": {},
   "source": [
    "### Stacking  gave a bad result on test data"
   ]
  },
  {
   "cell_type": "markdown",
   "metadata": {},
   "source": [
    "### Conclusion"
   ]
  },
  {
   "cell_type": "markdown",
   "metadata": {},
   "source": [
    "#### Decision trees and XGBoost perform the best giving 71 % on test data. SVM took a long time to execute but gave a comparatively lesser result of 68 percent which was the same as Logistic Regression."
   ]
  },
  {
   "cell_type": "code",
   "execution_count": null,
   "metadata": {},
   "outputs": [],
   "source": []
  }
 ],
 "metadata": {
  "kernelspec": {
   "display_name": "Python 3",
   "language": "python",
   "name": "python3"
  },
  "language_info": {
   "codemirror_mode": {
    "name": "ipython",
    "version": 3
   },
   "file_extension": ".py",
   "mimetype": "text/x-python",
   "name": "python",
   "nbconvert_exporter": "python",
   "pygments_lexer": "ipython3",
   "version": "3.7.4"
  }
 },
 "nbformat": 4,
 "nbformat_minor": 2
}
